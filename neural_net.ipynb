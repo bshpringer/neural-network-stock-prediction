{
 "cells": [
  {
   "cell_type": "markdown",
   "metadata": {},
   "source": [
    "## Predicting Stock Price Movement with a Feed Forward Neural Network, using Tensorflow"
   ]
  },
  {
   "cell_type": "code",
   "execution_count": null,
   "metadata": {},
   "outputs": [],
   "source": [
    "import pandas as pd\n",
    "import tensorflow as tf\n",
    "import numpy as np"
   ]
  },
  {
   "cell_type": "markdown",
   "metadata": {},
   "source": [
    "To validate our model, we split the the 186k events of 1/6/17 such that we train on the first 80% of the day, and validate using the final 20%. After tuning parameters, we use the entire 1/6/17 data set to train, and then test using the following day's data, which is from 1/9/17."
   ]
  },
  {
   "cell_type": "code",
   "execution_count": 2,
   "metadata": {},
   "outputs": [],
   "source": [
    "# remove the first 1000 and last 1000 events due to weirdness from the beginning and end of the trading day.\n",
    "train = pd.read_csv('SOXX_01_06_processed.csv')\n",
    "train_data = train[1000:-1000].reset_index(drop=True)\n",
    "\n",
    "test = pd.read_csv('SOXX_01_09_processed.csv')\n",
    "test_data = test[1000:-1000].reset_index(drop=True)"
   ]
  },
  {
   "cell_type": "markdown",
   "metadata": {},
   "source": [
    "### Preprocessing: Standardizing Features and Encoding Labels\n",
    "Use sklearn prepocessing module to both encode labels, and standard scale the columns for the train, validation, and test sets."
   ]
  },
  {
   "cell_type": "code",
   "execution_count": 3,
   "metadata": {},
   "outputs": [],
   "source": [
    "from sklearn import preprocessing\n",
    "\n",
    "scaler = preprocessing.StandardScaler()\n",
    "\n",
    "bid_columns = []\n",
    "ask_columns = []\n",
    "\n",
    "for i in range(10, 0, -1):\n",
    "    bid_columns.append('bid' + str(i))\n",
    "\n",
    "for i in range(1,11):\n",
    "    ask_columns.append('ask' + str(i))\n",
    "\n",
    "train_depths = train_data[bid_columns + ask_columns]\n",
    "test_depths = test_data[bid_columns + ask_columns]\n",
    "depth_names = train_depths.columns\n",
    "\n",
    "scaled_depths = scaler.fit_transform(train_depths)\n",
    "train_x = pd.DataFrame(scaled_depths, columns=depth_names)\n",
    "train_x['normalized_mid_price'] = train_data.norm_mid_price\n",
    "train_x['mid_price_change'] = train_data.norm_mid_price_change\n",
    "train_x['normalized_relative_depth'] = train_data.norm_rel_depth\n",
    "\n",
    "scaled_test_depths = scaler.fit_transform(test_depths)\n",
    "test_x = pd.DataFrame(scaled_test_depths, columns=depth_names)\n",
    "test_x['normalized_mid_price'] = test_data.norm_mid_price\n",
    "test_x['mid_price_change'] = test_data.norm_mid_price_change\n",
    "test_x['normalized_relative_depth'] = test_data.norm_rel_depth\n",
    "\n",
    "train_set_x = train_x[:150000]\n",
    "validation_x = train_x[150000:]"
   ]
  },
  {
   "cell_type": "markdown",
   "metadata": {},
   "source": [
    "Check that the input columns look good and standardized"
   ]
  },
  {
   "cell_type": "code",
   "execution_count": 4,
   "metadata": {},
   "outputs": [
    {
     "data": {
      "text/html": [
       "<div>\n",
       "<style scoped>\n",
       "    .dataframe tbody tr th:only-of-type {\n",
       "        vertical-align: middle;\n",
       "    }\n",
       "\n",
       "    .dataframe tbody tr th {\n",
       "        vertical-align: top;\n",
       "    }\n",
       "\n",
       "    .dataframe thead th {\n",
       "        text-align: right;\n",
       "    }\n",
       "</style>\n",
       "<table border=\"1\" class=\"dataframe\">\n",
       "  <thead>\n",
       "    <tr style=\"text-align: right;\">\n",
       "      <th></th>\n",
       "      <th>bid10</th>\n",
       "      <th>bid9</th>\n",
       "      <th>bid8</th>\n",
       "      <th>bid7</th>\n",
       "      <th>bid6</th>\n",
       "      <th>bid5</th>\n",
       "      <th>bid4</th>\n",
       "      <th>bid3</th>\n",
       "      <th>bid2</th>\n",
       "      <th>bid1</th>\n",
       "      <th>ask1</th>\n",
       "      <th>ask2</th>\n",
       "      <th>ask3</th>\n",
       "      <th>ask4</th>\n",
       "      <th>ask5</th>\n",
       "      <th>ask6</th>\n",
       "      <th>ask7</th>\n",
       "      <th>ask8</th>\n",
       "      <th>ask9</th>\n",
       "      <th>ask10</th>\n",
       "      <th>normalized_mid_price</th>\n",
       "      <th>mid_price_change</th>\n",
       "      <th>normalized_relative_depth</th>\n",
       "    </tr>\n",
       "  </thead>\n",
       "  <tbody>\n",
       "    <tr>\n",
       "      <th>10000</th>\n",
       "      <td>-0.916484</td>\n",
       "      <td>0.469729</td>\n",
       "      <td>-0.763767</td>\n",
       "      <td>0.172598</td>\n",
       "      <td>-0.578536</td>\n",
       "      <td>-0.742413</td>\n",
       "      <td>-1.439773</td>\n",
       "      <td>-0.087217</td>\n",
       "      <td>0.251144</td>\n",
       "      <td>-0.754155</td>\n",
       "      <td>-0.023116</td>\n",
       "      <td>-1.234478</td>\n",
       "      <td>-1.649811</td>\n",
       "      <td>-1.813906</td>\n",
       "      <td>-1.779646</td>\n",
       "      <td>-1.305669</td>\n",
       "      <td>-0.946409</td>\n",
       "      <td>-0.962680</td>\n",
       "      <td>-0.949827</td>\n",
       "      <td>-0.346373</td>\n",
       "      <td>-1.427243</td>\n",
       "      <td>1.140265</td>\n",
       "      <td>2.694120</td>\n",
       "    </tr>\n",
       "    <tr>\n",
       "      <th>10001</th>\n",
       "      <td>-0.916484</td>\n",
       "      <td>0.469729</td>\n",
       "      <td>-0.763767</td>\n",
       "      <td>0.172598</td>\n",
       "      <td>-0.578536</td>\n",
       "      <td>-0.742413</td>\n",
       "      <td>-1.439773</td>\n",
       "      <td>-0.087217</td>\n",
       "      <td>0.251144</td>\n",
       "      <td>-0.754155</td>\n",
       "      <td>-0.023116</td>\n",
       "      <td>-1.234478</td>\n",
       "      <td>-1.649811</td>\n",
       "      <td>-1.813906</td>\n",
       "      <td>-1.779646</td>\n",
       "      <td>-1.305700</td>\n",
       "      <td>-0.946599</td>\n",
       "      <td>-0.617941</td>\n",
       "      <td>-0.949870</td>\n",
       "      <td>-0.924091</td>\n",
       "      <td>-1.427243</td>\n",
       "      <td>1.140265</td>\n",
       "      <td>2.694462</td>\n",
       "    </tr>\n",
       "    <tr>\n",
       "      <th>10002</th>\n",
       "      <td>-0.916484</td>\n",
       "      <td>0.469729</td>\n",
       "      <td>-0.763767</td>\n",
       "      <td>0.172598</td>\n",
       "      <td>-0.578536</td>\n",
       "      <td>-0.742413</td>\n",
       "      <td>-1.439773</td>\n",
       "      <td>-0.087217</td>\n",
       "      <td>0.251144</td>\n",
       "      <td>-0.754155</td>\n",
       "      <td>-0.023116</td>\n",
       "      <td>-1.234478</td>\n",
       "      <td>-1.649811</td>\n",
       "      <td>-1.813906</td>\n",
       "      <td>-1.779646</td>\n",
       "      <td>-1.305700</td>\n",
       "      <td>-0.946599</td>\n",
       "      <td>-0.617941</td>\n",
       "      <td>-0.949870</td>\n",
       "      <td>-0.924091</td>\n",
       "      <td>-1.427243</td>\n",
       "      <td>1.140265</td>\n",
       "      <td>2.694462</td>\n",
       "    </tr>\n",
       "    <tr>\n",
       "      <th>10003</th>\n",
       "      <td>-0.916484</td>\n",
       "      <td>0.469729</td>\n",
       "      <td>-0.763767</td>\n",
       "      <td>0.172598</td>\n",
       "      <td>-0.578536</td>\n",
       "      <td>-0.742413</td>\n",
       "      <td>-1.439773</td>\n",
       "      <td>-0.087217</td>\n",
       "      <td>0.251144</td>\n",
       "      <td>-0.754155</td>\n",
       "      <td>-0.023116</td>\n",
       "      <td>-1.816310</td>\n",
       "      <td>-1.649811</td>\n",
       "      <td>-1.813906</td>\n",
       "      <td>-1.779646</td>\n",
       "      <td>-1.305700</td>\n",
       "      <td>-0.946599</td>\n",
       "      <td>-0.617941</td>\n",
       "      <td>-0.949870</td>\n",
       "      <td>-0.924091</td>\n",
       "      <td>-1.427243</td>\n",
       "      <td>1.140265</td>\n",
       "      <td>3.329511</td>\n",
       "    </tr>\n",
       "    <tr>\n",
       "      <th>10004</th>\n",
       "      <td>-0.916484</td>\n",
       "      <td>0.469729</td>\n",
       "      <td>-0.763767</td>\n",
       "      <td>0.172598</td>\n",
       "      <td>-0.578536</td>\n",
       "      <td>-0.742413</td>\n",
       "      <td>-1.439773</td>\n",
       "      <td>-0.087217</td>\n",
       "      <td>0.251144</td>\n",
       "      <td>-0.754155</td>\n",
       "      <td>-0.023116</td>\n",
       "      <td>-1.816310</td>\n",
       "      <td>-1.649811</td>\n",
       "      <td>-1.243165</td>\n",
       "      <td>-1.779646</td>\n",
       "      <td>-1.305700</td>\n",
       "      <td>-0.946599</td>\n",
       "      <td>-0.617941</td>\n",
       "      <td>-0.949870</td>\n",
       "      <td>-0.924091</td>\n",
       "      <td>-1.427243</td>\n",
       "      <td>1.140265</td>\n",
       "      <td>2.694369</td>\n",
       "    </tr>\n",
       "    <tr>\n",
       "      <th>10005</th>\n",
       "      <td>-0.916484</td>\n",
       "      <td>0.469729</td>\n",
       "      <td>-0.763767</td>\n",
       "      <td>0.172598</td>\n",
       "      <td>-0.578536</td>\n",
       "      <td>-0.742413</td>\n",
       "      <td>-1.439773</td>\n",
       "      <td>-0.087217</td>\n",
       "      <td>0.251144</td>\n",
       "      <td>-0.754155</td>\n",
       "      <td>-0.023116</td>\n",
       "      <td>-1.816310</td>\n",
       "      <td>-1.649811</td>\n",
       "      <td>-0.862671</td>\n",
       "      <td>-1.779646</td>\n",
       "      <td>-1.305700</td>\n",
       "      <td>-0.946599</td>\n",
       "      <td>-0.617941</td>\n",
       "      <td>-0.949870</td>\n",
       "      <td>-0.924091</td>\n",
       "      <td>-1.427243</td>\n",
       "      <td>1.140265</td>\n",
       "      <td>2.339232</td>\n",
       "    </tr>\n",
       "    <tr>\n",
       "      <th>10006</th>\n",
       "      <td>-0.916484</td>\n",
       "      <td>0.469729</td>\n",
       "      <td>-0.763767</td>\n",
       "      <td>0.172598</td>\n",
       "      <td>-0.578536</td>\n",
       "      <td>-0.742413</td>\n",
       "      <td>-1.439773</td>\n",
       "      <td>-0.087217</td>\n",
       "      <td>0.251144</td>\n",
       "      <td>-0.754155</td>\n",
       "      <td>-0.023116</td>\n",
       "      <td>-1.816310</td>\n",
       "      <td>-1.649811</td>\n",
       "      <td>-0.862671</td>\n",
       "      <td>-1.779646</td>\n",
       "      <td>-1.305700</td>\n",
       "      <td>-0.946599</td>\n",
       "      <td>-0.617941</td>\n",
       "      <td>-0.949870</td>\n",
       "      <td>-0.924091</td>\n",
       "      <td>-1.427243</td>\n",
       "      <td>1.306359</td>\n",
       "      <td>2.339232</td>\n",
       "    </tr>\n",
       "    <tr>\n",
       "      <th>10007</th>\n",
       "      <td>0.987799</td>\n",
       "      <td>-0.475337</td>\n",
       "      <td>0.863938</td>\n",
       "      <td>-0.076316</td>\n",
       "      <td>-0.350305</td>\n",
       "      <td>-1.189503</td>\n",
       "      <td>0.040080</td>\n",
       "      <td>-0.087016</td>\n",
       "      <td>-1.386611</td>\n",
       "      <td>-0.754155</td>\n",
       "      <td>-0.023116</td>\n",
       "      <td>-1.816310</td>\n",
       "      <td>-1.649811</td>\n",
       "      <td>-0.862671</td>\n",
       "      <td>-1.779646</td>\n",
       "      <td>-1.305700</td>\n",
       "      <td>-0.946599</td>\n",
       "      <td>-0.617941</td>\n",
       "      <td>-0.949870</td>\n",
       "      <td>-0.924091</td>\n",
       "      <td>-1.427243</td>\n",
       "      <td>1.306359</td>\n",
       "      <td>2.516934</td>\n",
       "    </tr>\n",
       "    <tr>\n",
       "      <th>10008</th>\n",
       "      <td>0.987799</td>\n",
       "      <td>-0.475337</td>\n",
       "      <td>0.863938</td>\n",
       "      <td>-0.076316</td>\n",
       "      <td>-0.350305</td>\n",
       "      <td>-1.189503</td>\n",
       "      <td>-0.382710</td>\n",
       "      <td>-0.087016</td>\n",
       "      <td>-1.386611</td>\n",
       "      <td>-0.754155</td>\n",
       "      <td>-0.023116</td>\n",
       "      <td>-1.816310</td>\n",
       "      <td>-1.649811</td>\n",
       "      <td>-0.862671</td>\n",
       "      <td>-1.779646</td>\n",
       "      <td>-1.305700</td>\n",
       "      <td>-0.946599</td>\n",
       "      <td>-0.617941</td>\n",
       "      <td>-0.949870</td>\n",
       "      <td>-0.924091</td>\n",
       "      <td>-1.427243</td>\n",
       "      <td>1.472468</td>\n",
       "      <td>2.339333</td>\n",
       "    </tr>\n",
       "    <tr>\n",
       "      <th>10009</th>\n",
       "      <td>0.987799</td>\n",
       "      <td>-0.475337</td>\n",
       "      <td>0.863938</td>\n",
       "      <td>-0.076316</td>\n",
       "      <td>-0.350305</td>\n",
       "      <td>-1.189503</td>\n",
       "      <td>-0.382710</td>\n",
       "      <td>-0.087016</td>\n",
       "      <td>-1.386611</td>\n",
       "      <td>-0.754155</td>\n",
       "      <td>-0.023116</td>\n",
       "      <td>-1.816310</td>\n",
       "      <td>-1.649811</td>\n",
       "      <td>-0.862671</td>\n",
       "      <td>-1.779646</td>\n",
       "      <td>-1.305700</td>\n",
       "      <td>-0.946599</td>\n",
       "      <td>-0.617941</td>\n",
       "      <td>-0.949870</td>\n",
       "      <td>-0.924091</td>\n",
       "      <td>-1.427243</td>\n",
       "      <td>1.472468</td>\n",
       "      <td>2.339333</td>\n",
       "    </tr>\n",
       "  </tbody>\n",
       "</table>\n",
       "</div>"
      ],
      "text/plain": [
       "          bid10      bid9      bid8      bid7      bid6      bid5      bid4  \\\n",
       "10000 -0.916484  0.469729 -0.763767  0.172598 -0.578536 -0.742413 -1.439773   \n",
       "10001 -0.916484  0.469729 -0.763767  0.172598 -0.578536 -0.742413 -1.439773   \n",
       "10002 -0.916484  0.469729 -0.763767  0.172598 -0.578536 -0.742413 -1.439773   \n",
       "10003 -0.916484  0.469729 -0.763767  0.172598 -0.578536 -0.742413 -1.439773   \n",
       "10004 -0.916484  0.469729 -0.763767  0.172598 -0.578536 -0.742413 -1.439773   \n",
       "10005 -0.916484  0.469729 -0.763767  0.172598 -0.578536 -0.742413 -1.439773   \n",
       "10006 -0.916484  0.469729 -0.763767  0.172598 -0.578536 -0.742413 -1.439773   \n",
       "10007  0.987799 -0.475337  0.863938 -0.076316 -0.350305 -1.189503  0.040080   \n",
       "10008  0.987799 -0.475337  0.863938 -0.076316 -0.350305 -1.189503 -0.382710   \n",
       "10009  0.987799 -0.475337  0.863938 -0.076316 -0.350305 -1.189503 -0.382710   \n",
       "\n",
       "           bid3      bid2      bid1      ask1      ask2      ask3      ask4  \\\n",
       "10000 -0.087217  0.251144 -0.754155 -0.023116 -1.234478 -1.649811 -1.813906   \n",
       "10001 -0.087217  0.251144 -0.754155 -0.023116 -1.234478 -1.649811 -1.813906   \n",
       "10002 -0.087217  0.251144 -0.754155 -0.023116 -1.234478 -1.649811 -1.813906   \n",
       "10003 -0.087217  0.251144 -0.754155 -0.023116 -1.816310 -1.649811 -1.813906   \n",
       "10004 -0.087217  0.251144 -0.754155 -0.023116 -1.816310 -1.649811 -1.243165   \n",
       "10005 -0.087217  0.251144 -0.754155 -0.023116 -1.816310 -1.649811 -0.862671   \n",
       "10006 -0.087217  0.251144 -0.754155 -0.023116 -1.816310 -1.649811 -0.862671   \n",
       "10007 -0.087016 -1.386611 -0.754155 -0.023116 -1.816310 -1.649811 -0.862671   \n",
       "10008 -0.087016 -1.386611 -0.754155 -0.023116 -1.816310 -1.649811 -0.862671   \n",
       "10009 -0.087016 -1.386611 -0.754155 -0.023116 -1.816310 -1.649811 -0.862671   \n",
       "\n",
       "           ask5      ask6      ask7      ask8      ask9     ask10  \\\n",
       "10000 -1.779646 -1.305669 -0.946409 -0.962680 -0.949827 -0.346373   \n",
       "10001 -1.779646 -1.305700 -0.946599 -0.617941 -0.949870 -0.924091   \n",
       "10002 -1.779646 -1.305700 -0.946599 -0.617941 -0.949870 -0.924091   \n",
       "10003 -1.779646 -1.305700 -0.946599 -0.617941 -0.949870 -0.924091   \n",
       "10004 -1.779646 -1.305700 -0.946599 -0.617941 -0.949870 -0.924091   \n",
       "10005 -1.779646 -1.305700 -0.946599 -0.617941 -0.949870 -0.924091   \n",
       "10006 -1.779646 -1.305700 -0.946599 -0.617941 -0.949870 -0.924091   \n",
       "10007 -1.779646 -1.305700 -0.946599 -0.617941 -0.949870 -0.924091   \n",
       "10008 -1.779646 -1.305700 -0.946599 -0.617941 -0.949870 -0.924091   \n",
       "10009 -1.779646 -1.305700 -0.946599 -0.617941 -0.949870 -0.924091   \n",
       "\n",
       "       normalized_mid_price  mid_price_change  normalized_relative_depth  \n",
       "10000             -1.427243          1.140265                   2.694120  \n",
       "10001             -1.427243          1.140265                   2.694462  \n",
       "10002             -1.427243          1.140265                   2.694462  \n",
       "10003             -1.427243          1.140265                   3.329511  \n",
       "10004             -1.427243          1.140265                   2.694369  \n",
       "10005             -1.427243          1.140265                   2.339232  \n",
       "10006             -1.427243          1.306359                   2.339232  \n",
       "10007             -1.427243          1.306359                   2.516934  \n",
       "10008             -1.427243          1.472468                   2.339333  \n",
       "10009             -1.427243          1.472468                   2.339333  "
      ]
     },
     "execution_count": 4,
     "metadata": {},
     "output_type": "execute_result"
    }
   ],
   "source": [
    "train_set_x[10000:10010]"
   ]
  },
  {
   "cell_type": "markdown",
   "metadata": {},
   "source": [
    "### Label Encoding"
   ]
  },
  {
   "cell_type": "code",
   "execution_count": 5,
   "metadata": {},
   "outputs": [],
   "source": [
    "le = preprocessing.LabelEncoder()\n",
    "\n",
    "train_y = train_data['change_label']\n",
    "le.fit(train_y)\n",
    "encoded_train_y = le.transform(train_y)\n",
    "encoded_train_set_y = encoded_train_y[:150000]\n",
    "encoded_validation_set_y = encoded_train_y[150000:]\n",
    "\n",
    "test_y = test_data['change_label']\n",
    "encoded_test_y = le.transform(test_y)"
   ]
  },
  {
   "cell_type": "markdown",
   "metadata": {},
   "source": [
    "## Building the Neural Net"
   ]
  },
  {
   "cell_type": "markdown",
   "metadata": {},
   "source": [
    "#### Defining Layer Hyperparameters"
   ]
  },
  {
   "cell_type": "code",
   "execution_count": 6,
   "metadata": {},
   "outputs": [],
   "source": [
    "n_inputs = len(train_x.columns)\n",
    "n_hidden1 = 13\n",
    "n_hidden2 = 8\n",
    "n_outputs = 3\n",
    "num_examples = len(train_x)"
   ]
  },
  {
   "cell_type": "markdown",
   "metadata": {},
   "source": [
    "#### Setting up placeholders and  2 hidden Layers"
   ]
  },
  {
   "cell_type": "code",
   "execution_count": 7,
   "metadata": {},
   "outputs": [
    {
     "name": "stdout",
     "output_type": "stream",
     "text": [
      "WARNING:tensorflow:From <ipython-input-7-775e13366fdd>:4: dense (from tensorflow.python.layers.core) is deprecated and will be removed in a future version.\n",
      "Instructions for updating:\n",
      "Use keras.layers.dense instead.\n",
      "WARNING:tensorflow:From /Users/Beni/miniconda3/lib/python3.6/site-packages/tensorflow/python/framework/op_def_library.py:263: colocate_with (from tensorflow.python.framework.ops) is deprecated and will be removed in a future version.\n",
      "Instructions for updating:\n",
      "Colocations handled automatically by placer.\n"
     ]
    }
   ],
   "source": [
    "x_place = tf.placeholder(tf.float32, shape=(None, n_inputs), name=\"x_place\")\n",
    "y_place = tf.placeholder(tf.int32, shape=(None), name=\"y_place\")\n",
    "\n",
    "layer1 = tf.layers.dense(x_place, n_hidden1, activation = tf.nn.relu, name = 'hidden1')\n",
    "layer2 = tf.layers.dense(layer1, n_hidden2, activation = tf.nn.relu, name = 'hidden2')\n",
    "logits = tf.layers.dense(layer2, n_outputs, name = 'outputs')\n",
    "\n",
    "predictions = tf.nn.softmax(logits, name = 'predictions') "
   ]
  },
  {
   "cell_type": "markdown",
   "metadata": {},
   "source": [
    "#### Defining a loss function: softmax cross entropy"
   ]
  },
  {
   "cell_type": "code",
   "execution_count": 8,
   "metadata": {},
   "outputs": [],
   "source": [
    "with tf.name_scope(\"loss\"):\n",
    "    xentropy = tf.nn.sparse_softmax_cross_entropy_with_logits(labels=y_place, logits=logits)\n",
    "    loss = tf.reduce_mean(xentropy, name=\"loss\")\n",
    "    loss_summary = tf.summary.scalar('log_loss', loss)"
   ]
  },
  {
   "cell_type": "markdown",
   "metadata": {},
   "source": [
    "#### Define an optimization method: AdamOptimizer with .0001 learn rate "
   ]
  },
  {
   "cell_type": "code",
   "execution_count": 9,
   "metadata": {},
   "outputs": [],
   "source": [
    "learning_rate = 0.0001\n",
    "with tf.name_scope(\"train\"):\n",
    "    optimizer = tf.train.AdamOptimizer(learning_rate)\n",
    "    training_op = optimizer.minimize(loss)"
   ]
  },
  {
   "cell_type": "markdown",
   "metadata": {},
   "source": [
    "#### Define an accuracy metric: did the neural network predict the correct label?"
   ]
  },
  {
   "cell_type": "code",
   "execution_count": 10,
   "metadata": {},
   "outputs": [],
   "source": [
    "with tf.name_scope(\"eval\"):\n",
    "    correct = tf.nn.in_top_k(logits, y_place, 1)\n",
    "    accuracy = tf.reduce_mean(tf.cast(correct, tf.float32))\n",
    "    accuracy_summary = tf.summary.scalar('accuracy', accuracy)"
   ]
  },
  {
   "cell_type": "markdown",
   "metadata": {},
   "source": [
    "#### Neural Net Iteration\n",
    "* Define epoch and batch_size parameters\n",
    "* Instantiate variables and a saver to save the model\n",
    "\n",
    "* We want to train sequentially, thus, for each iteration, we keep track of the current index,  increment by the batch size.\n",
    "* We train on the batch, then change the start index such that we train on the next sequential batch\n",
    "* Save and print results every 50 epochs to see the average accuracy and loss for that epoch.\n",
    "* Finally save the model after all epochs have completed."
   ]
  },
  {
   "cell_type": "code",
   "execution_count": 11,
   "metadata": {
    "collapsed": true
   },
   "outputs": [
    {
     "ename": "KeyboardInterrupt",
     "evalue": "",
     "output_type": "error",
     "traceback": [
      "\u001b[0;31m---------------------------------------------------------------------------\u001b[0m",
      "\u001b[0;31mKeyboardInterrupt\u001b[0m                         Traceback (most recent call last)",
      "\u001b[0;32m<timed exec>\u001b[0m in \u001b[0;36m<module>\u001b[0;34m\u001b[0m\n",
      "\u001b[0;32m~/miniconda3/lib/python3.6/site-packages/pandas/core/frame.py\u001b[0m in \u001b[0;36m__getitem__\u001b[0;34m(self, key)\u001b[0m\n\u001b[1;32m   2908\u001b[0m         \u001b[0mindexer\u001b[0m \u001b[0;34m=\u001b[0m \u001b[0mconvert_to_index_sliceable\u001b[0m\u001b[0;34m(\u001b[0m\u001b[0mself\u001b[0m\u001b[0;34m,\u001b[0m \u001b[0mkey\u001b[0m\u001b[0;34m)\u001b[0m\u001b[0;34m\u001b[0m\u001b[0;34m\u001b[0m\u001b[0m\n\u001b[1;32m   2909\u001b[0m         \u001b[0;32mif\u001b[0m \u001b[0mindexer\u001b[0m \u001b[0;32mis\u001b[0m \u001b[0;32mnot\u001b[0m \u001b[0;32mNone\u001b[0m\u001b[0;34m:\u001b[0m\u001b[0;34m\u001b[0m\u001b[0;34m\u001b[0m\u001b[0m\n\u001b[0;32m-> 2910\u001b[0;31m             \u001b[0;32mreturn\u001b[0m \u001b[0mself\u001b[0m\u001b[0;34m.\u001b[0m\u001b[0m_slice\u001b[0m\u001b[0;34m(\u001b[0m\u001b[0mindexer\u001b[0m\u001b[0;34m,\u001b[0m \u001b[0maxis\u001b[0m\u001b[0;34m=\u001b[0m\u001b[0;36m0\u001b[0m\u001b[0;34m)\u001b[0m\u001b[0;34m\u001b[0m\u001b[0;34m\u001b[0m\u001b[0m\n\u001b[0m\u001b[1;32m   2911\u001b[0m \u001b[0;34m\u001b[0m\u001b[0m\n\u001b[1;32m   2912\u001b[0m         \u001b[0;31m# Do we have a (boolean) DataFrame?\u001b[0m\u001b[0;34m\u001b[0m\u001b[0;34m\u001b[0m\u001b[0;34m\u001b[0m\u001b[0m\n",
      "\u001b[0;32m~/miniconda3/lib/python3.6/site-packages/pandas/core/generic.py\u001b[0m in \u001b[0;36m_slice\u001b[0;34m(self, slobj, axis, kind)\u001b[0m\n\u001b[1;32m   3160\u001b[0m         \"\"\"\n\u001b[1;32m   3161\u001b[0m         \u001b[0maxis\u001b[0m \u001b[0;34m=\u001b[0m \u001b[0mself\u001b[0m\u001b[0;34m.\u001b[0m\u001b[0m_get_block_manager_axis\u001b[0m\u001b[0;34m(\u001b[0m\u001b[0maxis\u001b[0m\u001b[0;34m)\u001b[0m\u001b[0;34m\u001b[0m\u001b[0;34m\u001b[0m\u001b[0m\n\u001b[0;32m-> 3162\u001b[0;31m         \u001b[0mresult\u001b[0m \u001b[0;34m=\u001b[0m \u001b[0mself\u001b[0m\u001b[0;34m.\u001b[0m\u001b[0m_constructor\u001b[0m\u001b[0;34m(\u001b[0m\u001b[0mself\u001b[0m\u001b[0;34m.\u001b[0m\u001b[0m_data\u001b[0m\u001b[0;34m.\u001b[0m\u001b[0mget_slice\u001b[0m\u001b[0;34m(\u001b[0m\u001b[0mslobj\u001b[0m\u001b[0;34m,\u001b[0m \u001b[0maxis\u001b[0m\u001b[0;34m=\u001b[0m\u001b[0maxis\u001b[0m\u001b[0;34m)\u001b[0m\u001b[0;34m)\u001b[0m\u001b[0;34m\u001b[0m\u001b[0;34m\u001b[0m\u001b[0m\n\u001b[0m\u001b[1;32m   3163\u001b[0m         \u001b[0mresult\u001b[0m \u001b[0;34m=\u001b[0m \u001b[0mresult\u001b[0m\u001b[0;34m.\u001b[0m\u001b[0m__finalize__\u001b[0m\u001b[0;34m(\u001b[0m\u001b[0mself\u001b[0m\u001b[0;34m)\u001b[0m\u001b[0;34m\u001b[0m\u001b[0;34m\u001b[0m\u001b[0m\n\u001b[1;32m   3164\u001b[0m \u001b[0;34m\u001b[0m\u001b[0m\n",
      "\u001b[0;32m~/miniconda3/lib/python3.6/site-packages/pandas/core/internals/managers.py\u001b[0m in \u001b[0;36mget_slice\u001b[0;34m(self, slobj, axis)\u001b[0m\n\u001b[1;32m    697\u001b[0m         \u001b[0mnew_axes\u001b[0m\u001b[0;34m[\u001b[0m\u001b[0maxis\u001b[0m\u001b[0;34m]\u001b[0m \u001b[0;34m=\u001b[0m \u001b[0mnew_axes\u001b[0m\u001b[0;34m[\u001b[0m\u001b[0maxis\u001b[0m\u001b[0;34m]\u001b[0m\u001b[0;34m[\u001b[0m\u001b[0mslobj\u001b[0m\u001b[0;34m]\u001b[0m\u001b[0;34m\u001b[0m\u001b[0;34m\u001b[0m\u001b[0m\n\u001b[1;32m    698\u001b[0m \u001b[0;34m\u001b[0m\u001b[0m\n\u001b[0;32m--> 699\u001b[0;31m         \u001b[0mbm\u001b[0m \u001b[0;34m=\u001b[0m \u001b[0mself\u001b[0m\u001b[0;34m.\u001b[0m\u001b[0m__class__\u001b[0m\u001b[0;34m(\u001b[0m\u001b[0mnew_blocks\u001b[0m\u001b[0;34m,\u001b[0m \u001b[0mnew_axes\u001b[0m\u001b[0;34m,\u001b[0m \u001b[0mdo_integrity_check\u001b[0m\u001b[0;34m=\u001b[0m\u001b[0;32mFalse\u001b[0m\u001b[0;34m)\u001b[0m\u001b[0;34m\u001b[0m\u001b[0;34m\u001b[0m\u001b[0m\n\u001b[0m\u001b[1;32m    700\u001b[0m         \u001b[0mbm\u001b[0m\u001b[0;34m.\u001b[0m\u001b[0m_consolidate_inplace\u001b[0m\u001b[0;34m(\u001b[0m\u001b[0;34m)\u001b[0m\u001b[0;34m\u001b[0m\u001b[0;34m\u001b[0m\u001b[0m\n\u001b[1;32m    701\u001b[0m         \u001b[0;32mreturn\u001b[0m \u001b[0mbm\u001b[0m\u001b[0;34m\u001b[0m\u001b[0;34m\u001b[0m\u001b[0m\n",
      "\u001b[0;32m~/miniconda3/lib/python3.6/site-packages/pandas/core/internals/managers.py\u001b[0m in \u001b[0;36m__init__\u001b[0;34m(self, blocks, axes, do_integrity_check)\u001b[0m\n\u001b[1;32m    114\u001b[0m             \u001b[0mself\u001b[0m\u001b[0;34m.\u001b[0m\u001b[0m_verify_integrity\u001b[0m\u001b[0;34m(\u001b[0m\u001b[0;34m)\u001b[0m\u001b[0;34m\u001b[0m\u001b[0;34m\u001b[0m\u001b[0m\n\u001b[1;32m    115\u001b[0m \u001b[0;34m\u001b[0m\u001b[0m\n\u001b[0;32m--> 116\u001b[0;31m         \u001b[0mself\u001b[0m\u001b[0;34m.\u001b[0m\u001b[0m_consolidate_check\u001b[0m\u001b[0;34m(\u001b[0m\u001b[0;34m)\u001b[0m\u001b[0;34m\u001b[0m\u001b[0;34m\u001b[0m\u001b[0m\n\u001b[0m\u001b[1;32m    117\u001b[0m \u001b[0;34m\u001b[0m\u001b[0m\n\u001b[1;32m    118\u001b[0m         \u001b[0mself\u001b[0m\u001b[0;34m.\u001b[0m\u001b[0m_rebuild_blknos_and_blklocs\u001b[0m\u001b[0;34m(\u001b[0m\u001b[0;34m)\u001b[0m\u001b[0;34m\u001b[0m\u001b[0;34m\u001b[0m\u001b[0m\n",
      "\u001b[0;32m~/miniconda3/lib/python3.6/site-packages/pandas/core/internals/managers.py\u001b[0m in \u001b[0;36m_consolidate_check\u001b[0;34m(self)\u001b[0m\n\u001b[1;32m    598\u001b[0m \u001b[0;34m\u001b[0m\u001b[0m\n\u001b[1;32m    599\u001b[0m     \u001b[0;32mdef\u001b[0m \u001b[0m_consolidate_check\u001b[0m\u001b[0;34m(\u001b[0m\u001b[0mself\u001b[0m\u001b[0;34m)\u001b[0m\u001b[0;34m:\u001b[0m\u001b[0;34m\u001b[0m\u001b[0;34m\u001b[0m\u001b[0m\n\u001b[0;32m--> 600\u001b[0;31m         \u001b[0mftypes\u001b[0m \u001b[0;34m=\u001b[0m \u001b[0;34m[\u001b[0m\u001b[0mblk\u001b[0m\u001b[0;34m.\u001b[0m\u001b[0mftype\u001b[0m \u001b[0;32mfor\u001b[0m \u001b[0mblk\u001b[0m \u001b[0;32min\u001b[0m \u001b[0mself\u001b[0m\u001b[0;34m.\u001b[0m\u001b[0mblocks\u001b[0m\u001b[0;34m]\u001b[0m\u001b[0;34m\u001b[0m\u001b[0;34m\u001b[0m\u001b[0m\n\u001b[0m\u001b[1;32m    601\u001b[0m         \u001b[0mself\u001b[0m\u001b[0;34m.\u001b[0m\u001b[0m_is_consolidated\u001b[0m \u001b[0;34m=\u001b[0m \u001b[0mlen\u001b[0m\u001b[0;34m(\u001b[0m\u001b[0mftypes\u001b[0m\u001b[0;34m)\u001b[0m \u001b[0;34m==\u001b[0m \u001b[0mlen\u001b[0m\u001b[0;34m(\u001b[0m\u001b[0mset\u001b[0m\u001b[0;34m(\u001b[0m\u001b[0mftypes\u001b[0m\u001b[0;34m)\u001b[0m\u001b[0;34m)\u001b[0m\u001b[0;34m\u001b[0m\u001b[0;34m\u001b[0m\u001b[0m\n\u001b[1;32m    602\u001b[0m         \u001b[0mself\u001b[0m\u001b[0;34m.\u001b[0m\u001b[0m_known_consolidated\u001b[0m \u001b[0;34m=\u001b[0m \u001b[0;32mTrue\u001b[0m\u001b[0;34m\u001b[0m\u001b[0;34m\u001b[0m\u001b[0m\n",
      "\u001b[0;32m~/miniconda3/lib/python3.6/site-packages/pandas/core/internals/managers.py\u001b[0m in \u001b[0;36m<listcomp>\u001b[0;34m(.0)\u001b[0m\n\u001b[1;32m    598\u001b[0m \u001b[0;34m\u001b[0m\u001b[0m\n\u001b[1;32m    599\u001b[0m     \u001b[0;32mdef\u001b[0m \u001b[0m_consolidate_check\u001b[0m\u001b[0;34m(\u001b[0m\u001b[0mself\u001b[0m\u001b[0;34m)\u001b[0m\u001b[0;34m:\u001b[0m\u001b[0;34m\u001b[0m\u001b[0;34m\u001b[0m\u001b[0m\n\u001b[0;32m--> 600\u001b[0;31m         \u001b[0mftypes\u001b[0m \u001b[0;34m=\u001b[0m \u001b[0;34m[\u001b[0m\u001b[0mblk\u001b[0m\u001b[0;34m.\u001b[0m\u001b[0mftype\u001b[0m \u001b[0;32mfor\u001b[0m \u001b[0mblk\u001b[0m \u001b[0;32min\u001b[0m \u001b[0mself\u001b[0m\u001b[0;34m.\u001b[0m\u001b[0mblocks\u001b[0m\u001b[0;34m]\u001b[0m\u001b[0;34m\u001b[0m\u001b[0;34m\u001b[0m\u001b[0m\n\u001b[0m\u001b[1;32m    601\u001b[0m         \u001b[0mself\u001b[0m\u001b[0;34m.\u001b[0m\u001b[0m_is_consolidated\u001b[0m \u001b[0;34m=\u001b[0m \u001b[0mlen\u001b[0m\u001b[0;34m(\u001b[0m\u001b[0mftypes\u001b[0m\u001b[0;34m)\u001b[0m \u001b[0;34m==\u001b[0m \u001b[0mlen\u001b[0m\u001b[0;34m(\u001b[0m\u001b[0mset\u001b[0m\u001b[0;34m(\u001b[0m\u001b[0mftypes\u001b[0m\u001b[0;34m)\u001b[0m\u001b[0;34m)\u001b[0m\u001b[0;34m\u001b[0m\u001b[0;34m\u001b[0m\u001b[0m\n\u001b[1;32m    602\u001b[0m         \u001b[0mself\u001b[0m\u001b[0;34m.\u001b[0m\u001b[0m_known_consolidated\u001b[0m \u001b[0;34m=\u001b[0m \u001b[0;32mTrue\u001b[0m\u001b[0;34m\u001b[0m\u001b[0;34m\u001b[0m\u001b[0m\n",
      "\u001b[0;32m~/miniconda3/lib/python3.6/site-packages/pandas/core/internals/blocks.py\u001b[0m in \u001b[0;36mftype\u001b[0;34m(self)\u001b[0m\n\u001b[1;32m    316\u001b[0m         \u001b[0;32melse\u001b[0m\u001b[0;34m:\u001b[0m\u001b[0;34m\u001b[0m\u001b[0;34m\u001b[0m\u001b[0m\n\u001b[1;32m    317\u001b[0m             \u001b[0mdtype\u001b[0m \u001b[0;34m=\u001b[0m \u001b[0mself\u001b[0m\u001b[0;34m.\u001b[0m\u001b[0mdtype\u001b[0m\u001b[0;34m\u001b[0m\u001b[0;34m\u001b[0m\u001b[0m\n\u001b[0;32m--> 318\u001b[0;31m         \u001b[0;32mreturn\u001b[0m \u001b[0;34m\"{dtype}:{ftype}\"\u001b[0m\u001b[0;34m.\u001b[0m\u001b[0mformat\u001b[0m\u001b[0;34m(\u001b[0m\u001b[0mdtype\u001b[0m\u001b[0;34m=\u001b[0m\u001b[0mdtype\u001b[0m\u001b[0;34m,\u001b[0m \u001b[0mftype\u001b[0m\u001b[0;34m=\u001b[0m\u001b[0mself\u001b[0m\u001b[0;34m.\u001b[0m\u001b[0m_ftype\u001b[0m\u001b[0;34m)\u001b[0m\u001b[0;34m\u001b[0m\u001b[0;34m\u001b[0m\u001b[0m\n\u001b[0m\u001b[1;32m    319\u001b[0m \u001b[0;34m\u001b[0m\u001b[0m\n\u001b[1;32m    320\u001b[0m     \u001b[0;32mdef\u001b[0m \u001b[0mmerge\u001b[0m\u001b[0;34m(\u001b[0m\u001b[0mself\u001b[0m\u001b[0;34m,\u001b[0m \u001b[0mother\u001b[0m\u001b[0;34m)\u001b[0m\u001b[0;34m:\u001b[0m\u001b[0;34m\u001b[0m\u001b[0;34m\u001b[0m\u001b[0m\n",
      "\u001b[0;32m~/miniconda3/lib/python3.6/site-packages/numpy/core/_dtype.py\u001b[0m in \u001b[0;36m__str__\u001b[0;34m(dtype)\u001b[0m\n\u001b[1;32m     52\u001b[0m         \u001b[0;32mreturn\u001b[0m \u001b[0mdtype\u001b[0m\u001b[0;34m.\u001b[0m\u001b[0mstr\u001b[0m\u001b[0;34m\u001b[0m\u001b[0;34m\u001b[0m\u001b[0m\n\u001b[1;32m     53\u001b[0m     \u001b[0;32melse\u001b[0m\u001b[0;34m:\u001b[0m\u001b[0;34m\u001b[0m\u001b[0;34m\u001b[0m\u001b[0m\n\u001b[0;32m---> 54\u001b[0;31m         \u001b[0;32mreturn\u001b[0m \u001b[0mdtype\u001b[0m\u001b[0;34m.\u001b[0m\u001b[0mname\u001b[0m\u001b[0;34m\u001b[0m\u001b[0;34m\u001b[0m\u001b[0m\n\u001b[0m\u001b[1;32m     55\u001b[0m \u001b[0;34m\u001b[0m\u001b[0m\n\u001b[1;32m     56\u001b[0m \u001b[0;34m\u001b[0m\u001b[0m\n",
      "\u001b[0;32m~/miniconda3/lib/python3.6/site-packages/numpy/core/_dtype.py\u001b[0m in \u001b[0;36m_name_get\u001b[0;34m(dtype)\u001b[0m\n\u001b[1;32m    325\u001b[0m \u001b[0;34m\u001b[0m\u001b[0m\n\u001b[1;32m    326\u001b[0m     \u001b[0;31m# Builtin classes are documented as returning a \"bit name\"\u001b[0m\u001b[0;34m\u001b[0m\u001b[0;34m\u001b[0m\u001b[0;34m\u001b[0m\u001b[0m\n\u001b[0;32m--> 327\u001b[0;31m     \u001b[0mname\u001b[0m \u001b[0;34m=\u001b[0m \u001b[0mdtype\u001b[0m\u001b[0;34m.\u001b[0m\u001b[0mtype\u001b[0m\u001b[0;34m.\u001b[0m\u001b[0m__name__\u001b[0m\u001b[0;34m\u001b[0m\u001b[0;34m\u001b[0m\u001b[0m\n\u001b[0m\u001b[1;32m    328\u001b[0m \u001b[0;34m\u001b[0m\u001b[0m\n\u001b[1;32m    329\u001b[0m     \u001b[0;31m# handle bool_, str_, etc\u001b[0m\u001b[0;34m\u001b[0m\u001b[0;34m\u001b[0m\u001b[0;34m\u001b[0m\u001b[0m\n",
      "\u001b[0;31mKeyboardInterrupt\u001b[0m: "
     ]
    }
   ],
   "source": [
    "%%time\n",
    "import datetime\n",
    "\n",
    "n_epochs = 2000\n",
    "batch_size = 500\n",
    "\n",
    "num_examples = len(train_x)\n",
    "init = tf.global_variables_initializer()\n",
    "saver = tf.train.Saver()\n",
    "\n",
    "with tf.Session() as sess:\n",
    "    init.run()\n",
    "    writer = tf.summary.FileWriter('./graphs/2000', sess.graph)\n",
    "    for epoch in range(n_epochs):\n",
    "        epoch_acc = 0\n",
    "        epoch_loss = 0\n",
    "        iterations = 0\n",
    "        current_index = 0\n",
    "        for iteration in range(num_examples // batch_size):\n",
    "            next_index = current_index + batch_size\n",
    "            x_batch = train_x[current_index:next_index]\n",
    "            y_batch = encoded_train_y[current_index:next_index]\n",
    "            sess.run(training_op, feed_dict = {x_place:x_batch, y_place:y_batch})\n",
    "            current_index = next_index\n",
    "            acc_batch = accuracy.eval(feed_dict={x_place: x_batch, y_place: y_batch})\n",
    "            loss_batch = loss.eval(feed_dict={x_place: x_batch, y_place: y_batch})\n",
    "            \n",
    "            if (epoch+1) % 50 == 0:\n",
    "                acc_batch = accuracy.eval(feed_dict={x_place: x_batch, y_place: y_batch})\n",
    "                loss_batch = loss.eval(feed_dict={x_place: x_batch, y_place: y_batch})\n",
    "                epoch_acc = epoch_acc + acc_batch\n",
    "                epoch_loss = epoch_loss + loss_batch\n",
    "                iterations += 1\n",
    "            \n",
    "        if (epoch+1) % 50 == 0:\n",
    "            acc_train = accuracy.eval(feed_dict = {x_place: x_batch, y_place:y_batch})\n",
    "            summary1, summary2 = sess.run([loss_summary, accuracy_summary], feed_dict = {x_place: train_x, y_place:encoded_train_y})\n",
    "            \n",
    "            writer.add_summary(summary1, epoch+1)\n",
    "            writer.add_summary(summary2, epoch+1)\n",
    "            print(datetime.datetime.now())\n",
    "            print(epoch+1)\n",
    "            print(\"Epoch acc: \"+ str(epoch_acc/iterations))\n",
    "            print(\"Epoch loss: \"+ str(epoch_loss/iterations))\n",
    "            \n",
    "    save_path = saver.save(sess, \"./my_model_final.ckpt\")\n",
    "\n",
    "writer.close()"
   ]
  },
  {
   "cell_type": "code",
   "execution_count": 12,
   "metadata": {},
   "outputs": [
    {
     "name": "stdout",
     "output_type": "stream",
     "text": [
      "WARNING:tensorflow:From /Users/Beni/miniconda3/lib/python3.6/site-packages/tensorflow/python/training/saver.py:1266: checkpoint_exists (from tensorflow.python.training.checkpoint_management) is deprecated and will be removed in a future version.\n",
      "Instructions for updating:\n",
      "Use standard file APIs to check for files with this prefix.\n",
      "INFO:tensorflow:Restoring parameters from ./my_model_final20.ckpt\n"
     ]
    },
    {
     "ename": "InvalidArgumentError",
     "evalue": "Restoring from checkpoint failed. This is most likely due to a mismatch between the current graph and the graph from the checkpoint. Please ensure that you have not altered the graph expected based on the checkpoint. Original error:\n\nAssign requires shapes of both tensors to match. lhs shape= [23,13] rhs shape= [22,13]\n\t [[node save/Assign_5 (defined at <timed exec>:8) ]]\n\nCaused by op 'save/Assign_5', defined at:\n  File \"/Users/Beni/miniconda3/lib/python3.6/runpy.py\", line 193, in _run_module_as_main\n    \"__main__\", mod_spec)\n  File \"/Users/Beni/miniconda3/lib/python3.6/runpy.py\", line 85, in _run_code\n    exec(code, run_globals)\n  File \"/Users/Beni/miniconda3/lib/python3.6/site-packages/ipykernel_launcher.py\", line 16, in <module>\n    app.launch_new_instance()\n  File \"/Users/Beni/miniconda3/lib/python3.6/site-packages/traitlets/config/application.py\", line 658, in launch_instance\n    app.start()\n  File \"/Users/Beni/miniconda3/lib/python3.6/site-packages/ipykernel/kernelapp.py\", line 505, in start\n    self.io_loop.start()\n  File \"/Users/Beni/miniconda3/lib/python3.6/site-packages/tornado/platform/asyncio.py\", line 148, in start\n    self.asyncio_loop.run_forever()\n  File \"/Users/Beni/miniconda3/lib/python3.6/asyncio/base_events.py\", line 438, in run_forever\n    self._run_once()\n  File \"/Users/Beni/miniconda3/lib/python3.6/asyncio/base_events.py\", line 1451, in _run_once\n    handle._run()\n  File \"/Users/Beni/miniconda3/lib/python3.6/asyncio/events.py\", line 145, in _run\n    self._callback(*self._args)\n  File \"/Users/Beni/miniconda3/lib/python3.6/site-packages/tornado/ioloop.py\", line 690, in <lambda>\n    lambda f: self._run_callback(functools.partial(callback, future))\n  File \"/Users/Beni/miniconda3/lib/python3.6/site-packages/tornado/ioloop.py\", line 743, in _run_callback\n    ret = callback()\n  File \"/Users/Beni/miniconda3/lib/python3.6/site-packages/tornado/gen.py\", line 781, in inner\n    self.run()\n  File \"/Users/Beni/miniconda3/lib/python3.6/site-packages/tornado/gen.py\", line 742, in run\n    yielded = self.gen.send(value)\n  File \"/Users/Beni/miniconda3/lib/python3.6/site-packages/ipykernel/kernelbase.py\", line 357, in process_one\n    yield gen.maybe_future(dispatch(*args))\n  File \"/Users/Beni/miniconda3/lib/python3.6/site-packages/tornado/gen.py\", line 209, in wrapper\n    yielded = next(result)\n  File \"/Users/Beni/miniconda3/lib/python3.6/site-packages/ipykernel/kernelbase.py\", line 267, in dispatch_shell\n    yield gen.maybe_future(handler(stream, idents, msg))\n  File \"/Users/Beni/miniconda3/lib/python3.6/site-packages/tornado/gen.py\", line 209, in wrapper\n    yielded = next(result)\n  File \"/Users/Beni/miniconda3/lib/python3.6/site-packages/ipykernel/kernelbase.py\", line 534, in execute_request\n    user_expressions, allow_stdin,\n  File \"/Users/Beni/miniconda3/lib/python3.6/site-packages/tornado/gen.py\", line 209, in wrapper\n    yielded = next(result)\n  File \"/Users/Beni/miniconda3/lib/python3.6/site-packages/ipykernel/ipkernel.py\", line 294, in do_execute\n    res = shell.run_cell(code, store_history=store_history, silent=silent)\n  File \"/Users/Beni/miniconda3/lib/python3.6/site-packages/ipykernel/zmqshell.py\", line 536, in run_cell\n    return super(ZMQInteractiveShell, self).run_cell(*args, **kwargs)\n  File \"/Users/Beni/miniconda3/lib/python3.6/site-packages/IPython/core/interactiveshell.py\", line 2848, in run_cell\n    raw_cell, store_history, silent, shell_futures)\n  File \"/Users/Beni/miniconda3/lib/python3.6/site-packages/IPython/core/interactiveshell.py\", line 2874, in _run_cell\n    return runner(coro)\n  File \"/Users/Beni/miniconda3/lib/python3.6/site-packages/IPython/core/async_helpers.py\", line 67, in _pseudo_sync_runner\n    coro.send(None)\n  File \"/Users/Beni/miniconda3/lib/python3.6/site-packages/IPython/core/interactiveshell.py\", line 3049, in run_cell_async\n    interactivity=interactivity, compiler=compiler, result=result)\n  File \"/Users/Beni/miniconda3/lib/python3.6/site-packages/IPython/core/interactiveshell.py\", line 3220, in run_ast_nodes\n    if (yield from self.run_code(code, result)):\n  File \"/Users/Beni/miniconda3/lib/python3.6/site-packages/IPython/core/interactiveshell.py\", line 3296, in run_code\n    exec(code_obj, self.user_global_ns, self.user_ns)\n  File \"<ipython-input-11-f861dedc321a>\", line 1, in <module>\n    get_ipython().run_cell_magic('time', '', 'import datetime\\n\\nn_epochs = 2000\\nbatch_size = 500\\n\\nnum_examples = len(train_x)\\ninit = tf.global_variables_initializer()\\nsaver = tf.train.Saver()\\n\\nwith tf.Session() as sess:\\n    init.run()\\n    writer = tf.summary.FileWriter(\\'./graphs/2000\\', sess.graph)\\n    for epoch in range(n_epochs):\\n        epoch_acc = 0\\n        epoch_loss = 0\\n        iterations = 0\\n        current_index = 0\\n        for iteration in range(num_examples // batch_size):\\n            next_index = current_index + batch_size\\n            x_batch = train_x[current_index:next_index]\\n            y_batch = encoded_train_y[current_index:next_index]\\n            sess.run(training_op, feed_dict = {x_place:x_batch, y_place:y_batch})\\n            current_index = next_index\\n            acc_batch = accuracy.eval(feed_dict={x_place: x_batch, y_place: y_batch})\\n            loss_batch = loss.eval(feed_dict={x_place: x_batch, y_place: y_batch})\\n            \\n            if (epoch+1) % 50 == 0:\\n                acc_batch = accuracy.eval(feed_dict={x_place: x_batch, y_place: y_batch})\\n                loss_batch = loss.eval(feed_dict={x_place: x_batch, y_place: y_batch})\\n                epoch_acc = epoch_acc + acc_batch\\n                epoch_loss = epoch_loss + loss_batch\\n                iterations += 1\\n            \\n        if (epoch+1) % 50 == 0:\\n            acc_train = accuracy.eval(feed_dict = {x_place: x_batch, y_place:y_batch})\\n            summary1, summary2 = sess.run([loss_summary, accuracy_summary], feed_dict = {x_place: train_x, y_place:encoded_train_y})\\n            \\n            writer.add_summary(summary1, epoch+1)\\n            writer.add_summary(summary2, epoch+1)\\n            print(datetime.datetime.now())\\n            print(epoch+1)\\n            print(\"Epoch acc: \"+ str(epoch_acc/iterations))\\n            print(\"Epoch loss: \"+ str(epoch_loss/iterations))\\n            \\n    save_path = saver.save(sess, \"./my_model_final.ckpt\")\\n\\nwriter.close()\\n')\n  File \"/Users/Beni/miniconda3/lib/python3.6/site-packages/IPython/core/interactiveshell.py\", line 2352, in run_cell_magic\n    result = fn(*args, **kwargs)\n  File \"</Users/Beni/miniconda3/lib/python3.6/site-packages/decorator.py:decorator-gen-61>\", line 2, in time\n  File \"/Users/Beni/miniconda3/lib/python3.6/site-packages/IPython/core/magic.py\", line 187, in <lambda>\n    call = lambda f, *a, **k: f(*a, **k)\n  File \"/Users/Beni/miniconda3/lib/python3.6/site-packages/IPython/core/magics/execution.py\", line 1291, in time\n    exec(code, glob, local_ns)\n  File \"<timed exec>\", line 8, in <module>\n  File \"/Users/Beni/miniconda3/lib/python3.6/site-packages/tensorflow/python/training/saver.py\", line 832, in __init__\n    self.build()\n  File \"/Users/Beni/miniconda3/lib/python3.6/site-packages/tensorflow/python/training/saver.py\", line 844, in build\n    self._build(self._filename, build_save=True, build_restore=True)\n  File \"/Users/Beni/miniconda3/lib/python3.6/site-packages/tensorflow/python/training/saver.py\", line 881, in _build\n    build_save=build_save, build_restore=build_restore)\n  File \"/Users/Beni/miniconda3/lib/python3.6/site-packages/tensorflow/python/training/saver.py\", line 513, in _build_internal\n    restore_sequentially, reshape)\n  File \"/Users/Beni/miniconda3/lib/python3.6/site-packages/tensorflow/python/training/saver.py\", line 354, in _AddRestoreOps\n    assign_ops.append(saveable.restore(saveable_tensors, shapes))\n  File \"/Users/Beni/miniconda3/lib/python3.6/site-packages/tensorflow/python/training/saving/saveable_object_util.py\", line 73, in restore\n    self.op.get_shape().is_fully_defined())\n  File \"/Users/Beni/miniconda3/lib/python3.6/site-packages/tensorflow/python/ops/state_ops.py\", line 223, in assign\n    validate_shape=validate_shape)\n  File \"/Users/Beni/miniconda3/lib/python3.6/site-packages/tensorflow/python/ops/gen_state_ops.py\", line 64, in assign\n    use_locking=use_locking, name=name)\n  File \"/Users/Beni/miniconda3/lib/python3.6/site-packages/tensorflow/python/framework/op_def_library.py\", line 788, in _apply_op_helper\n    op_def=op_def)\n  File \"/Users/Beni/miniconda3/lib/python3.6/site-packages/tensorflow/python/util/deprecation.py\", line 507, in new_func\n    return func(*args, **kwargs)\n  File \"/Users/Beni/miniconda3/lib/python3.6/site-packages/tensorflow/python/framework/ops.py\", line 3300, in create_op\n    op_def=op_def)\n  File \"/Users/Beni/miniconda3/lib/python3.6/site-packages/tensorflow/python/framework/ops.py\", line 1801, in __init__\n    self._traceback = tf_stack.extract_stack()\n\nInvalidArgumentError (see above for traceback): Restoring from checkpoint failed. This is most likely due to a mismatch between the current graph and the graph from the checkpoint. Please ensure that you have not altered the graph expected based on the checkpoint. Original error:\n\nAssign requires shapes of both tensors to match. lhs shape= [23,13] rhs shape= [22,13]\n\t [[node save/Assign_5 (defined at <timed exec>:8) ]]\n",
     "output_type": "error",
     "traceback": [
      "\u001b[0;31m---------------------------------------------------------------------------\u001b[0m",
      "\u001b[0;31mInvalidArgumentError\u001b[0m                      Traceback (most recent call last)",
      "\u001b[0;32m~/miniconda3/lib/python3.6/site-packages/tensorflow/python/client/session.py\u001b[0m in \u001b[0;36m_do_call\u001b[0;34m(self, fn, *args)\u001b[0m\n\u001b[1;32m   1333\u001b[0m     \u001b[0;32mtry\u001b[0m\u001b[0;34m:\u001b[0m\u001b[0;34m\u001b[0m\u001b[0;34m\u001b[0m\u001b[0m\n\u001b[0;32m-> 1334\u001b[0;31m       \u001b[0;32mreturn\u001b[0m \u001b[0mfn\u001b[0m\u001b[0;34m(\u001b[0m\u001b[0;34m*\u001b[0m\u001b[0margs\u001b[0m\u001b[0;34m)\u001b[0m\u001b[0;34m\u001b[0m\u001b[0;34m\u001b[0m\u001b[0m\n\u001b[0m\u001b[1;32m   1335\u001b[0m     \u001b[0;32mexcept\u001b[0m \u001b[0merrors\u001b[0m\u001b[0;34m.\u001b[0m\u001b[0mOpError\u001b[0m \u001b[0;32mas\u001b[0m \u001b[0me\u001b[0m\u001b[0;34m:\u001b[0m\u001b[0;34m\u001b[0m\u001b[0;34m\u001b[0m\u001b[0m\n",
      "\u001b[0;32m~/miniconda3/lib/python3.6/site-packages/tensorflow/python/client/session.py\u001b[0m in \u001b[0;36m_run_fn\u001b[0;34m(feed_dict, fetch_list, target_list, options, run_metadata)\u001b[0m\n\u001b[1;32m   1318\u001b[0m       return self._call_tf_sessionrun(\n\u001b[0;32m-> 1319\u001b[0;31m           options, feed_dict, fetch_list, target_list, run_metadata)\n\u001b[0m\u001b[1;32m   1320\u001b[0m \u001b[0;34m\u001b[0m\u001b[0m\n",
      "\u001b[0;32m~/miniconda3/lib/python3.6/site-packages/tensorflow/python/client/session.py\u001b[0m in \u001b[0;36m_call_tf_sessionrun\u001b[0;34m(self, options, feed_dict, fetch_list, target_list, run_metadata)\u001b[0m\n\u001b[1;32m   1406\u001b[0m         \u001b[0mself\u001b[0m\u001b[0;34m.\u001b[0m\u001b[0m_session\u001b[0m\u001b[0;34m,\u001b[0m \u001b[0moptions\u001b[0m\u001b[0;34m,\u001b[0m \u001b[0mfeed_dict\u001b[0m\u001b[0;34m,\u001b[0m \u001b[0mfetch_list\u001b[0m\u001b[0;34m,\u001b[0m \u001b[0mtarget_list\u001b[0m\u001b[0;34m,\u001b[0m\u001b[0;34m\u001b[0m\u001b[0;34m\u001b[0m\u001b[0m\n\u001b[0;32m-> 1407\u001b[0;31m         run_metadata)\n\u001b[0m\u001b[1;32m   1408\u001b[0m \u001b[0;34m\u001b[0m\u001b[0m\n",
      "\u001b[0;31mInvalidArgumentError\u001b[0m: Assign requires shapes of both tensors to match. lhs shape= [23,13] rhs shape= [22,13]\n\t [[{{node save/Assign_5}}]]",
      "\nDuring handling of the above exception, another exception occurred:\n",
      "\u001b[0;31mInvalidArgumentError\u001b[0m                      Traceback (most recent call last)",
      "\u001b[0;32m~/miniconda3/lib/python3.6/site-packages/tensorflow/python/training/saver.py\u001b[0m in \u001b[0;36mrestore\u001b[0;34m(self, sess, save_path)\u001b[0m\n\u001b[1;32m   1275\u001b[0m         sess.run(self.saver_def.restore_op_name,\n\u001b[0;32m-> 1276\u001b[0;31m                  {self.saver_def.filename_tensor_name: save_path})\n\u001b[0m\u001b[1;32m   1277\u001b[0m     \u001b[0;32mexcept\u001b[0m \u001b[0merrors\u001b[0m\u001b[0;34m.\u001b[0m\u001b[0mNotFoundError\u001b[0m \u001b[0;32mas\u001b[0m \u001b[0merr\u001b[0m\u001b[0;34m:\u001b[0m\u001b[0;34m\u001b[0m\u001b[0;34m\u001b[0m\u001b[0m\n",
      "\u001b[0;32m~/miniconda3/lib/python3.6/site-packages/tensorflow/python/client/session.py\u001b[0m in \u001b[0;36mrun\u001b[0;34m(self, fetches, feed_dict, options, run_metadata)\u001b[0m\n\u001b[1;32m    928\u001b[0m       result = self._run(None, fetches, feed_dict, options_ptr,\n\u001b[0;32m--> 929\u001b[0;31m                          run_metadata_ptr)\n\u001b[0m\u001b[1;32m    930\u001b[0m       \u001b[0;32mif\u001b[0m \u001b[0mrun_metadata\u001b[0m\u001b[0;34m:\u001b[0m\u001b[0;34m\u001b[0m\u001b[0;34m\u001b[0m\u001b[0m\n",
      "\u001b[0;32m~/miniconda3/lib/python3.6/site-packages/tensorflow/python/client/session.py\u001b[0m in \u001b[0;36m_run\u001b[0;34m(self, handle, fetches, feed_dict, options, run_metadata)\u001b[0m\n\u001b[1;32m   1151\u001b[0m       results = self._do_run(handle, final_targets, final_fetches,\n\u001b[0;32m-> 1152\u001b[0;31m                              feed_dict_tensor, options, run_metadata)\n\u001b[0m\u001b[1;32m   1153\u001b[0m     \u001b[0;32melse\u001b[0m\u001b[0;34m:\u001b[0m\u001b[0;34m\u001b[0m\u001b[0;34m\u001b[0m\u001b[0m\n",
      "\u001b[0;32m~/miniconda3/lib/python3.6/site-packages/tensorflow/python/client/session.py\u001b[0m in \u001b[0;36m_do_run\u001b[0;34m(self, handle, target_list, fetch_list, feed_dict, options, run_metadata)\u001b[0m\n\u001b[1;32m   1327\u001b[0m       return self._do_call(_run_fn, feeds, fetches, targets, options,\n\u001b[0;32m-> 1328\u001b[0;31m                            run_metadata)\n\u001b[0m\u001b[1;32m   1329\u001b[0m     \u001b[0;32melse\u001b[0m\u001b[0;34m:\u001b[0m\u001b[0;34m\u001b[0m\u001b[0;34m\u001b[0m\u001b[0m\n",
      "\u001b[0;32m~/miniconda3/lib/python3.6/site-packages/tensorflow/python/client/session.py\u001b[0m in \u001b[0;36m_do_call\u001b[0;34m(self, fn, *args)\u001b[0m\n\u001b[1;32m   1347\u001b[0m       \u001b[0mmessage\u001b[0m \u001b[0;34m=\u001b[0m \u001b[0merror_interpolation\u001b[0m\u001b[0;34m.\u001b[0m\u001b[0minterpolate\u001b[0m\u001b[0;34m(\u001b[0m\u001b[0mmessage\u001b[0m\u001b[0;34m,\u001b[0m \u001b[0mself\u001b[0m\u001b[0;34m.\u001b[0m\u001b[0m_graph\u001b[0m\u001b[0;34m)\u001b[0m\u001b[0;34m\u001b[0m\u001b[0;34m\u001b[0m\u001b[0m\n\u001b[0;32m-> 1348\u001b[0;31m       \u001b[0;32mraise\u001b[0m \u001b[0mtype\u001b[0m\u001b[0;34m(\u001b[0m\u001b[0me\u001b[0m\u001b[0;34m)\u001b[0m\u001b[0;34m(\u001b[0m\u001b[0mnode_def\u001b[0m\u001b[0;34m,\u001b[0m \u001b[0mop\u001b[0m\u001b[0;34m,\u001b[0m \u001b[0mmessage\u001b[0m\u001b[0;34m)\u001b[0m\u001b[0;34m\u001b[0m\u001b[0;34m\u001b[0m\u001b[0m\n\u001b[0m\u001b[1;32m   1349\u001b[0m \u001b[0;34m\u001b[0m\u001b[0m\n",
      "\u001b[0;31mInvalidArgumentError\u001b[0m: Assign requires shapes of both tensors to match. lhs shape= [23,13] rhs shape= [22,13]\n\t [[node save/Assign_5 (defined at <timed exec>:8) ]]\n\nCaused by op 'save/Assign_5', defined at:\n  File \"/Users/Beni/miniconda3/lib/python3.6/runpy.py\", line 193, in _run_module_as_main\n    \"__main__\", mod_spec)\n  File \"/Users/Beni/miniconda3/lib/python3.6/runpy.py\", line 85, in _run_code\n    exec(code, run_globals)\n  File \"/Users/Beni/miniconda3/lib/python3.6/site-packages/ipykernel_launcher.py\", line 16, in <module>\n    app.launch_new_instance()\n  File \"/Users/Beni/miniconda3/lib/python3.6/site-packages/traitlets/config/application.py\", line 658, in launch_instance\n    app.start()\n  File \"/Users/Beni/miniconda3/lib/python3.6/site-packages/ipykernel/kernelapp.py\", line 505, in start\n    self.io_loop.start()\n  File \"/Users/Beni/miniconda3/lib/python3.6/site-packages/tornado/platform/asyncio.py\", line 148, in start\n    self.asyncio_loop.run_forever()\n  File \"/Users/Beni/miniconda3/lib/python3.6/asyncio/base_events.py\", line 438, in run_forever\n    self._run_once()\n  File \"/Users/Beni/miniconda3/lib/python3.6/asyncio/base_events.py\", line 1451, in _run_once\n    handle._run()\n  File \"/Users/Beni/miniconda3/lib/python3.6/asyncio/events.py\", line 145, in _run\n    self._callback(*self._args)\n  File \"/Users/Beni/miniconda3/lib/python3.6/site-packages/tornado/ioloop.py\", line 690, in <lambda>\n    lambda f: self._run_callback(functools.partial(callback, future))\n  File \"/Users/Beni/miniconda3/lib/python3.6/site-packages/tornado/ioloop.py\", line 743, in _run_callback\n    ret = callback()\n  File \"/Users/Beni/miniconda3/lib/python3.6/site-packages/tornado/gen.py\", line 781, in inner\n    self.run()\n  File \"/Users/Beni/miniconda3/lib/python3.6/site-packages/tornado/gen.py\", line 742, in run\n    yielded = self.gen.send(value)\n  File \"/Users/Beni/miniconda3/lib/python3.6/site-packages/ipykernel/kernelbase.py\", line 357, in process_one\n    yield gen.maybe_future(dispatch(*args))\n  File \"/Users/Beni/miniconda3/lib/python3.6/site-packages/tornado/gen.py\", line 209, in wrapper\n    yielded = next(result)\n  File \"/Users/Beni/miniconda3/lib/python3.6/site-packages/ipykernel/kernelbase.py\", line 267, in dispatch_shell\n    yield gen.maybe_future(handler(stream, idents, msg))\n  File \"/Users/Beni/miniconda3/lib/python3.6/site-packages/tornado/gen.py\", line 209, in wrapper\n    yielded = next(result)\n  File \"/Users/Beni/miniconda3/lib/python3.6/site-packages/ipykernel/kernelbase.py\", line 534, in execute_request\n    user_expressions, allow_stdin,\n  File \"/Users/Beni/miniconda3/lib/python3.6/site-packages/tornado/gen.py\", line 209, in wrapper\n    yielded = next(result)\n  File \"/Users/Beni/miniconda3/lib/python3.6/site-packages/ipykernel/ipkernel.py\", line 294, in do_execute\n    res = shell.run_cell(code, store_history=store_history, silent=silent)\n  File \"/Users/Beni/miniconda3/lib/python3.6/site-packages/ipykernel/zmqshell.py\", line 536, in run_cell\n    return super(ZMQInteractiveShell, self).run_cell(*args, **kwargs)\n  File \"/Users/Beni/miniconda3/lib/python3.6/site-packages/IPython/core/interactiveshell.py\", line 2848, in run_cell\n    raw_cell, store_history, silent, shell_futures)\n  File \"/Users/Beni/miniconda3/lib/python3.6/site-packages/IPython/core/interactiveshell.py\", line 2874, in _run_cell\n    return runner(coro)\n  File \"/Users/Beni/miniconda3/lib/python3.6/site-packages/IPython/core/async_helpers.py\", line 67, in _pseudo_sync_runner\n    coro.send(None)\n  File \"/Users/Beni/miniconda3/lib/python3.6/site-packages/IPython/core/interactiveshell.py\", line 3049, in run_cell_async\n    interactivity=interactivity, compiler=compiler, result=result)\n  File \"/Users/Beni/miniconda3/lib/python3.6/site-packages/IPython/core/interactiveshell.py\", line 3220, in run_ast_nodes\n    if (yield from self.run_code(code, result)):\n  File \"/Users/Beni/miniconda3/lib/python3.6/site-packages/IPython/core/interactiveshell.py\", line 3296, in run_code\n    exec(code_obj, self.user_global_ns, self.user_ns)\n  File \"<ipython-input-11-f861dedc321a>\", line 1, in <module>\n    get_ipython().run_cell_magic('time', '', 'import datetime\\n\\nn_epochs = 2000\\nbatch_size = 500\\n\\nnum_examples = len(train_x)\\ninit = tf.global_variables_initializer()\\nsaver = tf.train.Saver()\\n\\nwith tf.Session() as sess:\\n    init.run()\\n    writer = tf.summary.FileWriter(\\'./graphs/2000\\', sess.graph)\\n    for epoch in range(n_epochs):\\n        epoch_acc = 0\\n        epoch_loss = 0\\n        iterations = 0\\n        current_index = 0\\n        for iteration in range(num_examples // batch_size):\\n            next_index = current_index + batch_size\\n            x_batch = train_x[current_index:next_index]\\n            y_batch = encoded_train_y[current_index:next_index]\\n            sess.run(training_op, feed_dict = {x_place:x_batch, y_place:y_batch})\\n            current_index = next_index\\n            acc_batch = accuracy.eval(feed_dict={x_place: x_batch, y_place: y_batch})\\n            loss_batch = loss.eval(feed_dict={x_place: x_batch, y_place: y_batch})\\n            \\n            if (epoch+1) % 50 == 0:\\n                acc_batch = accuracy.eval(feed_dict={x_place: x_batch, y_place: y_batch})\\n                loss_batch = loss.eval(feed_dict={x_place: x_batch, y_place: y_batch})\\n                epoch_acc = epoch_acc + acc_batch\\n                epoch_loss = epoch_loss + loss_batch\\n                iterations += 1\\n            \\n        if (epoch+1) % 50 == 0:\\n            acc_train = accuracy.eval(feed_dict = {x_place: x_batch, y_place:y_batch})\\n            summary1, summary2 = sess.run([loss_summary, accuracy_summary], feed_dict = {x_place: train_x, y_place:encoded_train_y})\\n            \\n            writer.add_summary(summary1, epoch+1)\\n            writer.add_summary(summary2, epoch+1)\\n            print(datetime.datetime.now())\\n            print(epoch+1)\\n            print(\"Epoch acc: \"+ str(epoch_acc/iterations))\\n            print(\"Epoch loss: \"+ str(epoch_loss/iterations))\\n            \\n    save_path = saver.save(sess, \"./my_model_final.ckpt\")\\n\\nwriter.close()\\n')\n  File \"/Users/Beni/miniconda3/lib/python3.6/site-packages/IPython/core/interactiveshell.py\", line 2352, in run_cell_magic\n    result = fn(*args, **kwargs)\n  File \"</Users/Beni/miniconda3/lib/python3.6/site-packages/decorator.py:decorator-gen-61>\", line 2, in time\n  File \"/Users/Beni/miniconda3/lib/python3.6/site-packages/IPython/core/magic.py\", line 187, in <lambda>\n    call = lambda f, *a, **k: f(*a, **k)\n  File \"/Users/Beni/miniconda3/lib/python3.6/site-packages/IPython/core/magics/execution.py\", line 1291, in time\n    exec(code, glob, local_ns)\n  File \"<timed exec>\", line 8, in <module>\n  File \"/Users/Beni/miniconda3/lib/python3.6/site-packages/tensorflow/python/training/saver.py\", line 832, in __init__\n    self.build()\n  File \"/Users/Beni/miniconda3/lib/python3.6/site-packages/tensorflow/python/training/saver.py\", line 844, in build\n    self._build(self._filename, build_save=True, build_restore=True)\n  File \"/Users/Beni/miniconda3/lib/python3.6/site-packages/tensorflow/python/training/saver.py\", line 881, in _build\n    build_save=build_save, build_restore=build_restore)\n  File \"/Users/Beni/miniconda3/lib/python3.6/site-packages/tensorflow/python/training/saver.py\", line 513, in _build_internal\n    restore_sequentially, reshape)\n  File \"/Users/Beni/miniconda3/lib/python3.6/site-packages/tensorflow/python/training/saver.py\", line 354, in _AddRestoreOps\n    assign_ops.append(saveable.restore(saveable_tensors, shapes))\n  File \"/Users/Beni/miniconda3/lib/python3.6/site-packages/tensorflow/python/training/saving/saveable_object_util.py\", line 73, in restore\n    self.op.get_shape().is_fully_defined())\n  File \"/Users/Beni/miniconda3/lib/python3.6/site-packages/tensorflow/python/ops/state_ops.py\", line 223, in assign\n    validate_shape=validate_shape)\n  File \"/Users/Beni/miniconda3/lib/python3.6/site-packages/tensorflow/python/ops/gen_state_ops.py\", line 64, in assign\n    use_locking=use_locking, name=name)\n  File \"/Users/Beni/miniconda3/lib/python3.6/site-packages/tensorflow/python/framework/op_def_library.py\", line 788, in _apply_op_helper\n    op_def=op_def)\n  File \"/Users/Beni/miniconda3/lib/python3.6/site-packages/tensorflow/python/util/deprecation.py\", line 507, in new_func\n    return func(*args, **kwargs)\n  File \"/Users/Beni/miniconda3/lib/python3.6/site-packages/tensorflow/python/framework/ops.py\", line 3300, in create_op\n    op_def=op_def)\n  File \"/Users/Beni/miniconda3/lib/python3.6/site-packages/tensorflow/python/framework/ops.py\", line 1801, in __init__\n    self._traceback = tf_stack.extract_stack()\n\nInvalidArgumentError (see above for traceback): Assign requires shapes of both tensors to match. lhs shape= [23,13] rhs shape= [22,13]\n\t [[node save/Assign_5 (defined at <timed exec>:8) ]]\n",
      "\nDuring handling of the above exception, another exception occurred:\n",
      "\u001b[0;31mInvalidArgumentError\u001b[0m                      Traceback (most recent call last)",
      "\u001b[0;32m<ipython-input-12-8c26f43f4ea2>\u001b[0m in \u001b[0;36m<module>\u001b[0;34m\u001b[0m\n\u001b[1;32m      1\u001b[0m \u001b[0;32mwith\u001b[0m \u001b[0mtf\u001b[0m\u001b[0;34m.\u001b[0m\u001b[0mSession\u001b[0m\u001b[0;34m(\u001b[0m\u001b[0;34m)\u001b[0m \u001b[0;32mas\u001b[0m \u001b[0msess\u001b[0m\u001b[0;34m:\u001b[0m\u001b[0;34m\u001b[0m\u001b[0;34m\u001b[0m\u001b[0m\n\u001b[0;32m----> 2\u001b[0;31m     \u001b[0msaver\u001b[0m\u001b[0;34m.\u001b[0m\u001b[0mrestore\u001b[0m\u001b[0;34m(\u001b[0m\u001b[0msess\u001b[0m\u001b[0;34m,\u001b[0m \u001b[0;34m\"./my_model_final20.ckpt\"\u001b[0m\u001b[0;34m)\u001b[0m\u001b[0;34m\u001b[0m\u001b[0;34m\u001b[0m\u001b[0m\n\u001b[0m\u001b[1;32m      3\u001b[0m     \u001b[0mZ\u001b[0m \u001b[0;34m=\u001b[0m \u001b[0mlogits\u001b[0m\u001b[0;34m.\u001b[0m\u001b[0meval\u001b[0m\u001b[0;34m(\u001b[0m\u001b[0mfeed_dict\u001b[0m \u001b[0;34m=\u001b[0m \u001b[0;34m{\u001b[0m\u001b[0mx_place\u001b[0m\u001b[0;34m:\u001b[0m \u001b[0mtest_x\u001b[0m\u001b[0;34m}\u001b[0m\u001b[0;34m)\u001b[0m\u001b[0;34m\u001b[0m\u001b[0;34m\u001b[0m\u001b[0m\n\u001b[1;32m      4\u001b[0m     \u001b[0my_pred\u001b[0m\u001b[0;34m=\u001b[0m \u001b[0mnp\u001b[0m\u001b[0;34m.\u001b[0m\u001b[0margmax\u001b[0m\u001b[0;34m(\u001b[0m\u001b[0mZ\u001b[0m\u001b[0;34m,\u001b[0m \u001b[0maxis\u001b[0m \u001b[0;34m=\u001b[0m \u001b[0;36m1\u001b[0m\u001b[0;34m)\u001b[0m\u001b[0;34m\u001b[0m\u001b[0;34m\u001b[0m\u001b[0m\n",
      "\u001b[0;32m~/miniconda3/lib/python3.6/site-packages/tensorflow/python/training/saver.py\u001b[0m in \u001b[0;36mrestore\u001b[0;34m(self, sess, save_path)\u001b[0m\n\u001b[1;32m   1310\u001b[0m       \u001b[0;31m# We add a more reasonable error message here to help users (b/110263146)\u001b[0m\u001b[0;34m\u001b[0m\u001b[0;34m\u001b[0m\u001b[0;34m\u001b[0m\u001b[0m\n\u001b[1;32m   1311\u001b[0m       raise _wrap_restore_error_with_msg(\n\u001b[0;32m-> 1312\u001b[0;31m           err, \"a mismatch between the current graph and the graph\")\n\u001b[0m\u001b[1;32m   1313\u001b[0m \u001b[0;34m\u001b[0m\u001b[0m\n\u001b[1;32m   1314\u001b[0m   \u001b[0;34m@\u001b[0m\u001b[0mstaticmethod\u001b[0m\u001b[0;34m\u001b[0m\u001b[0;34m\u001b[0m\u001b[0m\n",
      "\u001b[0;31mInvalidArgumentError\u001b[0m: Restoring from checkpoint failed. This is most likely due to a mismatch between the current graph and the graph from the checkpoint. Please ensure that you have not altered the graph expected based on the checkpoint. Original error:\n\nAssign requires shapes of both tensors to match. lhs shape= [23,13] rhs shape= [22,13]\n\t [[node save/Assign_5 (defined at <timed exec>:8) ]]\n\nCaused by op 'save/Assign_5', defined at:\n  File \"/Users/Beni/miniconda3/lib/python3.6/runpy.py\", line 193, in _run_module_as_main\n    \"__main__\", mod_spec)\n  File \"/Users/Beni/miniconda3/lib/python3.6/runpy.py\", line 85, in _run_code\n    exec(code, run_globals)\n  File \"/Users/Beni/miniconda3/lib/python3.6/site-packages/ipykernel_launcher.py\", line 16, in <module>\n    app.launch_new_instance()\n  File \"/Users/Beni/miniconda3/lib/python3.6/site-packages/traitlets/config/application.py\", line 658, in launch_instance\n    app.start()\n  File \"/Users/Beni/miniconda3/lib/python3.6/site-packages/ipykernel/kernelapp.py\", line 505, in start\n    self.io_loop.start()\n  File \"/Users/Beni/miniconda3/lib/python3.6/site-packages/tornado/platform/asyncio.py\", line 148, in start\n    self.asyncio_loop.run_forever()\n  File \"/Users/Beni/miniconda3/lib/python3.6/asyncio/base_events.py\", line 438, in run_forever\n    self._run_once()\n  File \"/Users/Beni/miniconda3/lib/python3.6/asyncio/base_events.py\", line 1451, in _run_once\n    handle._run()\n  File \"/Users/Beni/miniconda3/lib/python3.6/asyncio/events.py\", line 145, in _run\n    self._callback(*self._args)\n  File \"/Users/Beni/miniconda3/lib/python3.6/site-packages/tornado/ioloop.py\", line 690, in <lambda>\n    lambda f: self._run_callback(functools.partial(callback, future))\n  File \"/Users/Beni/miniconda3/lib/python3.6/site-packages/tornado/ioloop.py\", line 743, in _run_callback\n    ret = callback()\n  File \"/Users/Beni/miniconda3/lib/python3.6/site-packages/tornado/gen.py\", line 781, in inner\n    self.run()\n  File \"/Users/Beni/miniconda3/lib/python3.6/site-packages/tornado/gen.py\", line 742, in run\n    yielded = self.gen.send(value)\n  File \"/Users/Beni/miniconda3/lib/python3.6/site-packages/ipykernel/kernelbase.py\", line 357, in process_one\n    yield gen.maybe_future(dispatch(*args))\n  File \"/Users/Beni/miniconda3/lib/python3.6/site-packages/tornado/gen.py\", line 209, in wrapper\n    yielded = next(result)\n  File \"/Users/Beni/miniconda3/lib/python3.6/site-packages/ipykernel/kernelbase.py\", line 267, in dispatch_shell\n    yield gen.maybe_future(handler(stream, idents, msg))\n  File \"/Users/Beni/miniconda3/lib/python3.6/site-packages/tornado/gen.py\", line 209, in wrapper\n    yielded = next(result)\n  File \"/Users/Beni/miniconda3/lib/python3.6/site-packages/ipykernel/kernelbase.py\", line 534, in execute_request\n    user_expressions, allow_stdin,\n  File \"/Users/Beni/miniconda3/lib/python3.6/site-packages/tornado/gen.py\", line 209, in wrapper\n    yielded = next(result)\n  File \"/Users/Beni/miniconda3/lib/python3.6/site-packages/ipykernel/ipkernel.py\", line 294, in do_execute\n    res = shell.run_cell(code, store_history=store_history, silent=silent)\n  File \"/Users/Beni/miniconda3/lib/python3.6/site-packages/ipykernel/zmqshell.py\", line 536, in run_cell\n    return super(ZMQInteractiveShell, self).run_cell(*args, **kwargs)\n  File \"/Users/Beni/miniconda3/lib/python3.6/site-packages/IPython/core/interactiveshell.py\", line 2848, in run_cell\n    raw_cell, store_history, silent, shell_futures)\n  File \"/Users/Beni/miniconda3/lib/python3.6/site-packages/IPython/core/interactiveshell.py\", line 2874, in _run_cell\n    return runner(coro)\n  File \"/Users/Beni/miniconda3/lib/python3.6/site-packages/IPython/core/async_helpers.py\", line 67, in _pseudo_sync_runner\n    coro.send(None)\n  File \"/Users/Beni/miniconda3/lib/python3.6/site-packages/IPython/core/interactiveshell.py\", line 3049, in run_cell_async\n    interactivity=interactivity, compiler=compiler, result=result)\n  File \"/Users/Beni/miniconda3/lib/python3.6/site-packages/IPython/core/interactiveshell.py\", line 3220, in run_ast_nodes\n    if (yield from self.run_code(code, result)):\n  File \"/Users/Beni/miniconda3/lib/python3.6/site-packages/IPython/core/interactiveshell.py\", line 3296, in run_code\n    exec(code_obj, self.user_global_ns, self.user_ns)\n  File \"<ipython-input-11-f861dedc321a>\", line 1, in <module>\n    get_ipython().run_cell_magic('time', '', 'import datetime\\n\\nn_epochs = 2000\\nbatch_size = 500\\n\\nnum_examples = len(train_x)\\ninit = tf.global_variables_initializer()\\nsaver = tf.train.Saver()\\n\\nwith tf.Session() as sess:\\n    init.run()\\n    writer = tf.summary.FileWriter(\\'./graphs/2000\\', sess.graph)\\n    for epoch in range(n_epochs):\\n        epoch_acc = 0\\n        epoch_loss = 0\\n        iterations = 0\\n        current_index = 0\\n        for iteration in range(num_examples // batch_size):\\n            next_index = current_index + batch_size\\n            x_batch = train_x[current_index:next_index]\\n            y_batch = encoded_train_y[current_index:next_index]\\n            sess.run(training_op, feed_dict = {x_place:x_batch, y_place:y_batch})\\n            current_index = next_index\\n            acc_batch = accuracy.eval(feed_dict={x_place: x_batch, y_place: y_batch})\\n            loss_batch = loss.eval(feed_dict={x_place: x_batch, y_place: y_batch})\\n            \\n            if (epoch+1) % 50 == 0:\\n                acc_batch = accuracy.eval(feed_dict={x_place: x_batch, y_place: y_batch})\\n                loss_batch = loss.eval(feed_dict={x_place: x_batch, y_place: y_batch})\\n                epoch_acc = epoch_acc + acc_batch\\n                epoch_loss = epoch_loss + loss_batch\\n                iterations += 1\\n            \\n        if (epoch+1) % 50 == 0:\\n            acc_train = accuracy.eval(feed_dict = {x_place: x_batch, y_place:y_batch})\\n            summary1, summary2 = sess.run([loss_summary, accuracy_summary], feed_dict = {x_place: train_x, y_place:encoded_train_y})\\n            \\n            writer.add_summary(summary1, epoch+1)\\n            writer.add_summary(summary2, epoch+1)\\n            print(datetime.datetime.now())\\n            print(epoch+1)\\n            print(\"Epoch acc: \"+ str(epoch_acc/iterations))\\n            print(\"Epoch loss: \"+ str(epoch_loss/iterations))\\n            \\n    save_path = saver.save(sess, \"./my_model_final.ckpt\")\\n\\nwriter.close()\\n')\n  File \"/Users/Beni/miniconda3/lib/python3.6/site-packages/IPython/core/interactiveshell.py\", line 2352, in run_cell_magic\n    result = fn(*args, **kwargs)\n  File \"</Users/Beni/miniconda3/lib/python3.6/site-packages/decorator.py:decorator-gen-61>\", line 2, in time\n  File \"/Users/Beni/miniconda3/lib/python3.6/site-packages/IPython/core/magic.py\", line 187, in <lambda>\n    call = lambda f, *a, **k: f(*a, **k)\n  File \"/Users/Beni/miniconda3/lib/python3.6/site-packages/IPython/core/magics/execution.py\", line 1291, in time\n    exec(code, glob, local_ns)\n  File \"<timed exec>\", line 8, in <module>\n  File \"/Users/Beni/miniconda3/lib/python3.6/site-packages/tensorflow/python/training/saver.py\", line 832, in __init__\n    self.build()\n  File \"/Users/Beni/miniconda3/lib/python3.6/site-packages/tensorflow/python/training/saver.py\", line 844, in build\n    self._build(self._filename, build_save=True, build_restore=True)\n  File \"/Users/Beni/miniconda3/lib/python3.6/site-packages/tensorflow/python/training/saver.py\", line 881, in _build\n    build_save=build_save, build_restore=build_restore)\n  File \"/Users/Beni/miniconda3/lib/python3.6/site-packages/tensorflow/python/training/saver.py\", line 513, in _build_internal\n    restore_sequentially, reshape)\n  File \"/Users/Beni/miniconda3/lib/python3.6/site-packages/tensorflow/python/training/saver.py\", line 354, in _AddRestoreOps\n    assign_ops.append(saveable.restore(saveable_tensors, shapes))\n  File \"/Users/Beni/miniconda3/lib/python3.6/site-packages/tensorflow/python/training/saving/saveable_object_util.py\", line 73, in restore\n    self.op.get_shape().is_fully_defined())\n  File \"/Users/Beni/miniconda3/lib/python3.6/site-packages/tensorflow/python/ops/state_ops.py\", line 223, in assign\n    validate_shape=validate_shape)\n  File \"/Users/Beni/miniconda3/lib/python3.6/site-packages/tensorflow/python/ops/gen_state_ops.py\", line 64, in assign\n    use_locking=use_locking, name=name)\n  File \"/Users/Beni/miniconda3/lib/python3.6/site-packages/tensorflow/python/framework/op_def_library.py\", line 788, in _apply_op_helper\n    op_def=op_def)\n  File \"/Users/Beni/miniconda3/lib/python3.6/site-packages/tensorflow/python/util/deprecation.py\", line 507, in new_func\n    return func(*args, **kwargs)\n  File \"/Users/Beni/miniconda3/lib/python3.6/site-packages/tensorflow/python/framework/ops.py\", line 3300, in create_op\n    op_def=op_def)\n  File \"/Users/Beni/miniconda3/lib/python3.6/site-packages/tensorflow/python/framework/ops.py\", line 1801, in __init__\n    self._traceback = tf_stack.extract_stack()\n\nInvalidArgumentError (see above for traceback): Restoring from checkpoint failed. This is most likely due to a mismatch between the current graph and the graph from the checkpoint. Please ensure that you have not altered the graph expected based on the checkpoint. Original error:\n\nAssign requires shapes of both tensors to match. lhs shape= [23,13] rhs shape= [22,13]\n\t [[node save/Assign_5 (defined at <timed exec>:8) ]]\n"
     ]
    }
   ],
   "source": [
    "with tf.Session() as sess:\n",
    "    saver.restore(sess, \"./my_model_final20.ckpt\")\n",
    "    Z = logits.eval(feed_dict = {x_place: test_x})\n",
    "    y_pred= np.argmax(Z, axis = 1)"
   ]
  },
  {
   "cell_type": "code",
   "execution_count": null,
   "metadata": {},
   "outputs": [],
   "source": [
    "predictions = le.inverse_transform(y_pred)"
   ]
  },
  {
   "cell_type": "code",
   "execution_count": null,
   "metadata": {},
   "outputs": [],
   "source": [
    "round(sum(test_y == predictions)/len(test_y),3)"
   ]
  },
  {
   "cell_type": "code",
   "execution_count": null,
   "metadata": {},
   "outputs": [],
   "source": [
    "pd.DataFrame({'label': y_batch, 'pred': y_pred[-200]})"
   ]
  },
  {
   "cell_type": "code",
   "execution_count": null,
   "metadata": {},
   "outputs": [],
   "source": [
    "combined = pd.DataFrame(test_x).join(pd.DataFrame({'label': test_y, 'pred': predictions}))"
   ]
  },
  {
   "cell_type": "code",
   "execution_count": null,
   "metadata": {},
   "outputs": [],
   "source": [
    "pd.Series(y_pred).value_counts()"
   ]
  },
  {
   "cell_type": "code",
   "execution_count": null,
   "metadata": {},
   "outputs": [],
   "source": [
    "pd.set_option('display.max_rows', 10000)\n",
    "combined[10000:15000]"
   ]
  },
  {
   "cell_type": "code",
   "execution_count": null,
   "metadata": {},
   "outputs": [],
   "source": [
    "import matplotlib.pyplot as plt\n",
    "\n",
    "train_data_reduced = train_data[train_data.index % 200 == 0]\n",
    "plt.scatter(train_data_reduced.index, train_data_reduced.mid_price)\n",
    "plt.show()"
   ]
  },
  {
   "cell_type": "code",
   "execution_count": null,
   "metadata": {},
   "outputs": [],
   "source": [
    "test_data_reduced = test_data[test_data.index % 200 == 0]\n",
    "plt.scatter(test_data_reduced.index, test_data_reduced.mid_price)\n",
    "plt.show()"
   ]
  },
  {
   "cell_type": "code",
   "execution_count": null,
   "metadata": {},
   "outputs": [],
   "source": []
  },
  {
   "cell_type": "code",
   "execution_count": null,
   "metadata": {},
   "outputs": [],
   "source": [
    "print(bad_miss)"
   ]
  },
  {
   "cell_type": "code",
   "execution_count": null,
   "metadata": {},
   "outputs": [],
   "source": [
    "print(small_miss)"
   ]
  },
  {
   "cell_type": "code",
   "execution_count": null,
   "metadata": {},
   "outputs": [],
   "source": [
    "print(correct)"
   ]
  },
  {
   "cell_type": "code",
   "execution_count": null,
   "metadata": {},
   "outputs": [],
   "source": [
    "pd.Series(test_y - predictions).value_counts()"
   ]
  },
  {
   "cell_type": "code",
   "execution_count": null,
   "metadata": {},
   "outputs": [],
   "source": [
    "print(sum(np.where((test_y == -1) & (predictions == -1) ,1,0)))\n",
    "print(sum(np.where((test_y == 0) & (predictions == 0) ,1,0)))\n",
    "print(sum(np.where((test_y == 1) & (predictions == 1) ,1,0)))"
   ]
  },
  {
   "cell_type": "code",
   "execution_count": null,
   "metadata": {},
   "outputs": [],
   "source": [
    "print(sum(np.where((test_y == -1) & (predictions == 0) ,1,0)))\n",
    "print(sum(np.where((test_y == -1) & (predictions == 1) ,1,0)))"
   ]
  },
  {
   "cell_type": "code",
   "execution_count": null,
   "metadata": {},
   "outputs": [],
   "source": [
    "print(sum(np.where((test_y == 0) & (predictions == -1) ,1,0)))\n",
    "print(sum(np.where((test_y == 0) & (predictions == 1) ,1,0)))"
   ]
  },
  {
   "cell_type": "code",
   "execution_count": null,
   "metadata": {},
   "outputs": [],
   "source": [
    "print(sum(np.where((test_y == 1) & (predictions == -1) ,1,0)))\n",
    "print(sum(np.where((test_y == 1) & (predictions == 0) ,1,0)))"
   ]
  },
  {
   "cell_type": "code",
   "execution_count": null,
   "metadata": {},
   "outputs": [],
   "source": [
    "pd.Series(train_y).value_counts()/len(train_y)"
   ]
  },
  {
   "cell_type": "code",
   "execution_count": null,
   "metadata": {},
   "outputs": [],
   "source": [
    "len(test_data)"
   ]
  },
  {
   "cell_type": "code",
   "execution_count": null,
   "metadata": {},
   "outputs": [],
   "source": [
    "train[1000:2000]"
   ]
  },
  {
   "cell_type": "code",
   "execution_count": null,
   "metadata": {},
   "outputs": [],
   "source": []
  }
 ],
 "metadata": {
  "kernelspec": {
   "display_name": "Python 3",
   "language": "python",
   "name": "python3"
  },
  "language_info": {
   "codemirror_mode": {
    "name": "ipython",
    "version": 3
   },
   "file_extension": ".py",
   "mimetype": "text/x-python",
   "name": "python",
   "nbconvert_exporter": "python",
   "pygments_lexer": "ipython3",
   "version": "3.6.8"
  }
 },
 "nbformat": 4,
 "nbformat_minor": 2
}
