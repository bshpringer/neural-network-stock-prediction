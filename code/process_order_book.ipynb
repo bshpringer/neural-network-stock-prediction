{
 "cells": [
  {
   "cell_type": "markdown",
   "metadata": {},
   "source": [
    "# Processing Order Book\n",
    "\n",
    "Additonal features created based on work from the following papers:\n",
    "* [Tsantekidisa et al, “Using Deep Learning for price prediction by exploiting stationary limit order book features” (2018)](https://arxiv.org/pdf/1810.09965.pdf)\n",
    "* [Zhang and Kercheval, “Modeling high-frequency limit order book dynamics with support vector machines” (2013)](https://www.math.fsu.edu/~aluffi/archive/paper462.pdf)"
   ]
  },
  {
   "cell_type": "code",
   "execution_count": 17,
   "metadata": {},
   "outputs": [],
   "source": [
    "import pandas as pd\n",
    "import numpy as np\n",
    "import matplotlib.pyplot as plt"
   ]
  },
  {
   "cell_type": "code",
   "execution_count": 18,
   "metadata": {},
   "outputs": [],
   "source": [
    "soxx_1_6 = 'SOXX_01_06_with_bids_depths.csv'\n",
    "#soxx_1_9 = 'SOXX_01_09_with_bids_depths.csv'\n",
    "data = pd.read_csv(soxx_1_6)"
   ]
  },
  {
   "cell_type": "markdown",
   "metadata": {},
   "source": [
    "## Additional Features\n",
    "#### Relative Depth\n",
    "\n",
    "This feature is a ratio of the total depth for the top 10 bid and top 10 ask prices. In theory, a ratio greater than 0 indicates more buying pressure, indicating a possible future upward movement in mid-price."
   ]
  },
  {
   "cell_type": "code",
   "execution_count": 19,
   "metadata": {},
   "outputs": [],
   "source": [
    "data[\"relative_depth\"] = data.bid_depth_10 / data.ask_depth_10 - 1"
   ]
  },
  {
   "cell_type": "markdown",
   "metadata": {},
   "source": [
    "#### Mid-Price Change\n",
    "This feature is a ratio of the current mid-price to the mid-price of the previous period. In this case, we use 200 events as our horizon. A figure greater than 0 indicates an upward mid-price movement compared to 200 events previous. Further below in the *Labels* section, I define a function which can more flexibly change the number of steps we'd like to use for making predictions"
   ]
  },
  {
   "cell_type": "code",
   "execution_count": 20,
   "metadata": {},
   "outputs": [],
   "source": [
    "data[\"mid_price_change\"] = data.mid_price/data.shift(200).mid_price - 1"
   ]
  },
  {
   "cell_type": "markdown",
   "metadata": {},
   "source": [
    "## Standardizing Features\n",
    "\n",
    "Standarize columns based on means and std of all but the first and last 1,000 rows of the data. The first and last 1,000 rows are excluded because they include weirdness due to it being the beginning and end of the trading day, and thus greatly affect standardization. We standardize with the idea that this framework could be applied across several securities, and standardization allows for better comparison regardless of a security's share price."
   ]
  },
  {
   "cell_type": "code",
   "execution_count": 21,
   "metadata": {},
   "outputs": [],
   "source": [
    "# Take means after the first 1000 rows and before last 1000\n",
    "# A lot of weirdness in the beginning and end of the day\n",
    "mean_bid_depth = data.bid_depth_10[1000:-1000].mean()\n",
    "std_bid_depth = data.bid_depth_10[1000:-1000].std()\n",
    "\n",
    "#get the mean and std of the ask depth\n",
    "mean_ask_depth = data.ask_depth_10[1000:-1000].mean()\n",
    "std_ask_depth = data.ask_depth_10[1000:-1000].std()\n",
    "\n",
    "# standardize bid and ask depth\n",
    "data[\"norm_bid_depth\"] = (data.bid_depth_10 - mean_bid_depth) / std_bid_depth\n",
    "data[\"norm_ask_depth\"] = (data.ask_depth_10 - mean_ask_depth) / std_ask_depth\n",
    "\n",
    "# get the mean and std of mid price\n",
    "# compare each mid price to the mean for the day\n",
    "mean_mid_price =  data.mid_price[1000:-1000].mean()\n",
    "std_mid_price = data.mid_price[1000:-1000].std()\n",
    "data[\"norm_mid_price\"] = (data.mid_price - mean_mid_price) / std_mid_price\n",
    "\n",
    "# standardize relative depth\n",
    "mean_rel_depth =  data.relative_depth[1000:-1000].mean()\n",
    "std_rel_depth = data.relative_depth[1000:-1000].std()\n",
    "data[\"norm_rel_depth\"] = (data.relative_depth - mean_rel_depth) / std_rel_depth\n",
    "\n",
    "# Standardize mid-price change\n",
    "mean_mid_price_change =  data.mid_price_change[1000:-1000].mean()\n",
    "std_mid_price_change = data.mid_price_change[1000:-1000].std()\n",
    "data[\"norm_mid_price_change\"] = (data.mid_price_change - mean_mid_price_change)/std_mid_price_change"
   ]
  },
  {
   "cell_type": "code",
   "execution_count": 22,
   "metadata": {},
   "outputs": [],
   "source": [
    "# this is how much the price changes in 200 rows compared to the current row\n",
    "# greater than 0 means the price increases in 200 rows compared to the current row\n",
    "data[\"mid_price_change_forward\"] = data.shift(-200).mid_price/data.mid_price - 1 "
   ]
  },
  {
   "cell_type": "markdown",
   "metadata": {},
   "source": [
    "## Labels\n",
    "The labels we want are for a price movement a certain number of events in the future. We want to use prior events in order to predict whether the price will move upwards, downards, or stay the same <i>k</i> events in the future. The formulas for <i>mid_price_change</i>, <i>mid_price_change_forward</i> and <i>norm_mid_price_change</i> are the same as previously, just without the predefined steps <i>k</i>."
   ]
  },
  {
   "cell_type": "code",
   "execution_count": 23,
   "metadata": {},
   "outputs": [],
   "source": [
    "def mid(data, steps):\n",
    "    mid_price_change = data.mid_price/data.shift(steps).mid_price - 1\n",
    "    mid_price_change_forward = data.shift(-steps).mid_price/data.mid_price - 1\n",
    "    \n",
    "    mean_mid_price_change = mid_price_change[1000:-1000].mean()\n",
    "    std_mid_price_change = mid_price_change[1000:-1000].std()\n",
    "    norm_mid_price_change = (mid_price_change - mean_mid_price_change)/std_mid_price_change\n",
    "    \n",
    "    return(mid_price_change, mid_price_change_forward, norm_mid_price_change)"
   ]
  },
  {
   "cell_type": "markdown",
   "metadata": {},
   "source": [
    "Below I define a function that will look at the <i>mid_price_change_forward</i> column, which says by what percent the price has changed, and decide if this counts as an upwards, downward, or stationary movement using the <i> change_amount</i> argument. We'd like to get approximately even classes, if possible.\n",
    "\n",
    "If the price goes up by more than <i>change_amount</i>, the label is 1. If it goes down by more than <i>change_amount</i>, then the label is -1. Else it is 0."
   ]
  },
  {
   "cell_type": "code",
   "execution_count": 24,
   "metadata": {},
   "outputs": [],
   "source": [
    "# label for if in 200 rows the price will be higher, lower, or the same\n",
    "def label_price_changes(price_level_change, change_amount):\n",
    "    if price_level_change >= change_amount:\n",
    "        return 1\n",
    "    if price_level_change <= -change_amount:\n",
    "        return -1\n",
    "    elif price_level_change == np.nan:\n",
    "        return np.nan\n",
    "    else:\n",
    "        return 0"
   ]
  },
  {
   "cell_type": "code",
   "execution_count": 229,
   "metadata": {},
   "outputs": [],
   "source": [
    "# use 200 events as the change label\n",
    "data['mid_price_change'], data['mid_price_change_forward'], data['norm_mid_price_change'] = mid(data, 200)"
   ]
  },
  {
   "cell_type": "markdown",
   "metadata": {},
   "source": [
    "Below: Use a change amount of .01%. For the SOXX data, this implies a midprice change of at least 1.5 cents, as the mid price was consistently over $100 for that day."
   ]
  },
  {
   "cell_type": "code",
   "execution_count": 28,
   "metadata": {},
   "outputs": [],
   "source": [
    "data['change_label'] = data.mid_price_change_forward.apply(label_price_changes, change_amount = .0001)"
   ]
  },
  {
   "cell_type": "markdown",
   "metadata": {},
   "source": [
    "Using the .01% threshold, we get somewhat close to balanced classes. 37.7% of labels are stationary, 32.9% are upward movements, and 29.4% are downward movements."
   ]
  },
  {
   "cell_type": "code",
   "execution_count": 29,
   "metadata": {},
   "outputs": [
    {
     "data": {
      "text/plain": [
       " 0    0.377\n",
       " 1    0.329\n",
       "-1    0.294\n",
       "Name: change_label, dtype: float64"
      ]
     },
     "execution_count": 29,
     "metadata": {},
     "output_type": "execute_result"
    }
   ],
   "source": [
    "round(data.change_label.value_counts()/len(data),3)"
   ]
  },
  {
   "cell_type": "markdown",
   "metadata": {},
   "source": [
    "Now that we have processed features and labels, we can save the data to be used in a neural network"
   ]
  },
  {
   "cell_type": "code",
   "execution_count": 231,
   "metadata": {},
   "outputs": [],
   "source": [
    "#data.to_csv('SOXX_01_06_processed.csv')"
   ]
  }
 ],
 "metadata": {
  "kernelspec": {
   "display_name": "Python 3",
   "language": "python",
   "name": "python3"
  },
  "language_info": {
   "codemirror_mode": {
    "name": "ipython",
    "version": 3
   },
   "file_extension": ".py",
   "mimetype": "text/x-python",
   "name": "python",
   "nbconvert_exporter": "python",
   "pygments_lexer": "ipython3",
   "version": "3.6.8"
  }
 },
 "nbformat": 4,
 "nbformat_minor": 2
}
