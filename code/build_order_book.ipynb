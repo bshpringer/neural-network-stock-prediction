{
 "cells": [
  {
   "cell_type": "markdown",
   "metadata": {},
   "source": [
    "# Feature Engineering: Building the Limit Order Book\n",
    "\n",
    "In this notebook, I take a raw set of sequential limit orders, and update a bid or ask order book according to the newest event in the book.\n",
    "\n",
    "The steps are:\n",
    "* Read in the data and add empty columns for new features.\n",
    "* Create a class OrderBook which will hold updated information for the order books.\n",
    "* Create methods for OrderBook which will modify an order book. These methods contain the logic for how to modify an order book for a given event.\n",
    "* Instantiate OrderBook objects for the bids and asks.\n",
    "* Run through the data to update the order book objects, and fill in the new features for each row, given the state of the order books at that time.\n",
    "* View ask/bid depths after processing.\n",
    "* Save the updated data as a csv to be used for more processing in the next notebook."
   ]
  },
  {
   "cell_type": "code",
   "execution_count": 33,
   "metadata": {},
   "outputs": [
    {
     "name": "stdout",
     "output_type": "stream",
     "text": [
      "(188076, 7)\n"
     ]
    }
   ],
   "source": [
    "import pandas as pd\n",
    "import numpy as np\n",
    "import datetime\n",
    "import matplotlib.pyplot as plt\n",
    "\n",
    "soxx_1_06 = '../SOXX_book_events_sip-nasdaq_2017-01-06.csv'\n",
    "#soxx_1_09 = \"SOXX_book_events_sip-nasdaq_2017-01-09.csv\"\n",
    "\n",
    "data = pd.read_csv(soxx_1_06, index_col=[0])\n",
    "data = data[data.side != 'U'] # 'U' as a side is given an error and is to be removed\n",
    "\n",
    "print(data.shape) # 188k rows, 7 columns"
   ]
  },
  {
   "cell_type": "code",
   "execution_count": 34,
   "metadata": {},
   "outputs": [
    {
     "data": {
      "text/html": [
       "<div>\n",
       "<style scoped>\n",
       "    .dataframe tbody tr th:only-of-type {\n",
       "        vertical-align: middle;\n",
       "    }\n",
       "\n",
       "    .dataframe tbody tr th {\n",
       "        vertical-align: top;\n",
       "    }\n",
       "\n",
       "    .dataframe thead th {\n",
       "        text-align: right;\n",
       "    }\n",
       "</style>\n",
       "<table border=\"1\" class=\"dataframe\">\n",
       "  <thead>\n",
       "    <tr style=\"text-align: right;\">\n",
       "      <th></th>\n",
       "      <th>timestamp</th>\n",
       "      <th>order_id</th>\n",
       "      <th>book_event_type</th>\n",
       "      <th>price</th>\n",
       "      <th>quantity</th>\n",
       "      <th>side</th>\n",
       "      <th>aux_quantity</th>\n",
       "    </tr>\n",
       "  </thead>\n",
       "  <tbody>\n",
       "    <tr>\n",
       "      <th>0</th>\n",
       "      <td>1483706745349555268</td>\n",
       "      <td>2187624</td>\n",
       "      <td>A</td>\n",
       "      <td>10000000</td>\n",
       "      <td>100</td>\n",
       "      <td>B</td>\n",
       "      <td>0</td>\n",
       "    </tr>\n",
       "    <tr>\n",
       "      <th>1</th>\n",
       "      <td>1483706745349557645</td>\n",
       "      <td>2187628</td>\n",
       "      <td>A</td>\n",
       "      <td>199999990000000</td>\n",
       "      <td>100</td>\n",
       "      <td>A</td>\n",
       "      <td>0</td>\n",
       "    </tr>\n",
       "    <tr>\n",
       "      <th>2</th>\n",
       "      <td>1483707601849177770</td>\n",
       "      <td>2429788</td>\n",
       "      <td>A</td>\n",
       "      <td>124300000000</td>\n",
       "      <td>700</td>\n",
       "      <td>A</td>\n",
       "      <td>0</td>\n",
       "    </tr>\n",
       "    <tr>\n",
       "      <th>3</th>\n",
       "      <td>1483707602641135886</td>\n",
       "      <td>2429788</td>\n",
       "      <td>C</td>\n",
       "      <td>124300000000</td>\n",
       "      <td>0</td>\n",
       "      <td>A</td>\n",
       "      <td>700</td>\n",
       "    </tr>\n",
       "    <tr>\n",
       "      <th>4</th>\n",
       "      <td>1483707602641681537</td>\n",
       "      <td>2432900</td>\n",
       "      <td>A</td>\n",
       "      <td>124090000000</td>\n",
       "      <td>700</td>\n",
       "      <td>A</td>\n",
       "      <td>0</td>\n",
       "    </tr>\n",
       "  </tbody>\n",
       "</table>\n",
       "</div>"
      ],
      "text/plain": [
       "             timestamp  order_id book_event_type            price  quantity  \\\n",
       "0  1483706745349555268   2187624               A         10000000       100   \n",
       "1  1483706745349557645   2187628               A  199999990000000       100   \n",
       "2  1483707601849177770   2429788               A     124300000000       700   \n",
       "3  1483707602641135886   2429788               C     124300000000         0   \n",
       "4  1483707602641681537   2432900               A     124090000000       700   \n",
       "\n",
       "  side  aux_quantity  \n",
       "0    B             0  \n",
       "1    A             0  \n",
       "2    A             0  \n",
       "3    A           700  \n",
       "4    A             0  "
      ]
     },
     "execution_count": 34,
     "metadata": {},
     "output_type": "execute_result"
    }
   ],
   "source": [
    "data.head()"
   ]
  },
  {
   "cell_type": "code",
   "execution_count": 35,
   "metadata": {},
   "outputs": [
    {
     "data": {
      "text/plain": [
       "timestamp          0\n",
       "order_id           0\n",
       "book_event_type    0\n",
       "price              0\n",
       "quantity           0\n",
       "side               0\n",
       "aux_quantity       0\n",
       "dtype: int64"
      ]
     },
     "execution_count": 35,
     "metadata": {},
     "output_type": "execute_result"
    }
   ],
   "source": [
    "# check for na values - there are none\n",
    "data.isna().sum()"
   ]
  },
  {
   "cell_type": "code",
   "execution_count": 36,
   "metadata": {},
   "outputs": [
    {
     "data": {
      "text/plain": [
       "A    62725\n",
       "M    62500\n",
       "C    62358\n",
       "T      493\n",
       "Name: book_event_type, dtype: int64"
      ]
     },
     "execution_count": 36,
     "metadata": {},
     "output_type": "execute_result"
    }
   ],
   "source": [
    "# check distribution of events\n",
    "# majority of events are adds, modifies, or cancels - only 493 trades actually occur during the day.\n",
    "data.book_event_type.value_counts()"
   ]
  },
  {
   "cell_type": "code",
   "execution_count": 37,
   "metadata": {},
   "outputs": [],
   "source": [
    "# transform price and timestamp into cleaner numbers\n",
    "data['timestamp'] = data['timestamp'].apply(lambda x: datetime.datetime.fromtimestamp(x/1000000000).strftime('%D %H:%M:%S.%f'))\n",
    "data['price'] = data['price']/1000000000"
   ]
  },
  {
   "cell_type": "code",
   "execution_count": 38,
   "metadata": {},
   "outputs": [],
   "source": [
    "# Create columns for features we will build from order book\n",
    "data['best_bid'] = np.nan\n",
    "data['best_ask'] = np.nan\n",
    "data['mid_price'] = np.nan\n",
    "data['bid_depth_10'] = np.nan\n",
    "data['ask_depth_10'] = np.nan\n",
    "\n",
    "bid_columns = []\n",
    "ask_columns = []\n",
    "\n",
    "for i in range(10, 0, -1):\n",
    "    data['bid' + str(i)] = np.nan\n",
    "    bid_columns.append('bid' + str(i))\n",
    "\n",
    "for i in range(1,11):\n",
    "    data['ask' + str(i)] = np.nan\n",
    "    ask_columns.append('ask' + str(i))"
   ]
  },
  {
   "cell_type": "markdown",
   "metadata": {},
   "source": [
    "<a id='OrderBook'></a>\n",
    "### OrderBook Class \n",
    "OrderBook objects will store synthesized limit order book data that can be used to make predictions for future price movements. Each row in the dataframe affects the limit order book in some way. The methods of the OrderBook class make the appropriate changes to the order book, in order to extract the data we are interested in.\n",
    "\n",
    "Comments/details regarding the logic for each of the methods are here: [Link](https://github.com/bshpringer/neural-network-stock-prediction/blob/master/info/OrderBook_Methods.ipynb)"
   ]
  },
  {
   "cell_type": "code",
   "execution_count": 39,
   "metadata": {},
   "outputs": [],
   "source": [
    "from collections import defaultdict\n",
    "\n",
    "class OrderBook:\n",
    "    def __init__(self):\n",
    "        self.orders = defaultdict(lambda: defaultdict(float))\n",
    "        self.order_prices = defaultdict(lambda: defaultdict(float))\n",
    "        self.current_prices = [0]\n",
    "        \n",
    "    def change_book(self, row):\n",
    "        event = row.book_event_type\n",
    "        \n",
    "        if event == 'A':\n",
    "            self.add_order(row)\n",
    "        elif event == 'M':\n",
    "            self.modify_order(row)\n",
    "        elif event == 'C':\n",
    "            self.cancel_order(row)\n",
    "        elif event == 'T':\n",
    "            self.trade_order(row)\n",
    "            \n",
    "        self.update_current_prices(row.side)\n",
    "        \n",
    "    def add_order(self, row):\n",
    "        order_id = row.order_id\n",
    "        self.orders[row.price][order_id] += row.quantity\n",
    "        self.order_prices[order_id] = row.price\n",
    "    \n",
    "    def modify_order(self, row):\n",
    "        order_id = row.order_id\n",
    "        old_price = self.order_prices[order_id]\n",
    "        del self.orders[old_price][order_id]\n",
    "        self.orders[row.price][order_id] += row.quantity\n",
    "        self.order_prices[order_id] = row.price\n",
    "        if len(self.orders[old_price]) == 0:\n",
    "            self.orders.pop(old_price)\n",
    "        elif all(value <= 0 for value in self.orders[old_price].values()):\n",
    "            self.orders.pop(old_price)\n",
    "        \n",
    "    def cancel_order(self, row):\n",
    "        order_id = row.order_id\n",
    "        self.orders[row.price].pop(order_id, None)\n",
    "        del self.order_prices[order_id]\n",
    "        if len(self.orders[row.price]) == 0:\n",
    "            self.orders.pop(row.price)\n",
    "        elif all(value <= 0 for value in self.orders[row.price].values()):\n",
    "            self.orders.pop(row.price)\n",
    "    \n",
    "    def trade_order(self, row):\n",
    "        order_id = row.order_id\n",
    "        old_price = self.order_prices[order_id]\n",
    "        self.orders[old_price][order_id] = row.aux_quantity\n",
    "\n",
    "        if all(value <= 0 for value in self.orders[old_price].values()):\n",
    "            self.orders.pop(old_price)\n",
    "    \n",
    "    def update_current_prices(self, side):\n",
    "        if side == 'A':\n",
    "            self.current_prices = sorted(self.orders.keys())\n",
    "        elif side == 'B':\n",
    "            self.current_prices = sorted(self.orders.keys(), reverse = True)\n",
    "    \n",
    "    def top_10_price_depth(self):\n",
    "        top_10_prices = self.current_prices[0:10]\n",
    "        return [sum(self.orders[price].values())*price for price in top_10_prices if price !=0]"
   ]
  },
  {
   "cell_type": "code",
   "execution_count": 40,
   "metadata": {},
   "outputs": [],
   "source": [
    "# Helper method so that I always have 10 values to add for bids and asks\n",
    "def append_nones(length, prices):\n",
    "    diff_len = length - len(prices)\n",
    "    return prices + [None] * diff_len"
   ]
  },
  {
   "cell_type": "markdown",
   "metadata": {},
   "source": [
    "### Iterate through data\n",
    "\n",
    "* Instantiate ask_book and bid_book\n",
    "* Apply change method for a given row\n",
    "* Pull figures we care about:\n",
    "\n",
    "    * Current best bid/ask at the time\n",
    "    * Sum of the top 10 price depths (price * total shares requested)\n",
    "    * Individual depths for the top 10 prices\n",
    "    \n",
    "* Update the dataframe with all the calculated figures"
   ]
  },
  {
   "cell_type": "code",
   "execution_count": 42,
   "metadata": {},
   "outputs": [
    {
     "name": "stdout",
     "output_type": "stream",
     "text": [
      "CPU times: user 5min 30s, sys: 4.43 s, total: 5min 35s\n",
      "Wall time: 5min 48s\n"
     ]
    }
   ],
   "source": [
    "%%time\n",
    "\n",
    "ask_book = OrderBook()\n",
    "bid_book = OrderBook()\n",
    "\n",
    "for index, row in data[0:11000].iterrows():\n",
    "    side = row.side\n",
    "    \n",
    "    if side == 'A':\n",
    "        ask_book.change_book(row)\n",
    "        \n",
    "    elif side == 'B':\n",
    "        bid_book.change_book(row)\n",
    "        \n",
    "    best_ask = ask_book.current_prices[0]\n",
    "    best_bid = bid_book.current_prices[0]\n",
    "    \n",
    "    current_bid_depth = sum(bid_book.top_10_price_depth())\n",
    "    current_ask_depth = sum(ask_book.top_10_price_depth())\n",
    "    \n",
    "    # align the bids depths with the columns\n",
    "    top_10_bid_depths = bid_book.top_10_price_depth()\n",
    "    appended_bids = append_nones(10,top_10_bid_depths)[::-1]\n",
    "    \n",
    "    top_10_ask_depth = ask_book.top_10_price_depth()\n",
    "    appended_asks = append_nones(10, top_10_ask_depth)\n",
    "    \n",
    "    individual_columns = ['best_bid','best_ask', 'bid_depth_10','ask_depth_10']\n",
    "    individual_figures = [best_bid, best_ask, current_bid_depth, current_ask_depth]\n",
    "    \n",
    "    update_columns = individual_columns + bid_columns + ask_columns\n",
    "    update_stats = individual_figures + appended_bids + appended_asks\n",
    "    \n",
    "    data.loc[row.name, update_columns] = update_stats"
   ]
  },
  {
   "cell_type": "markdown",
   "metadata": {},
   "source": [
    "#### 20 rows of data after 10,000 events and processing:"
   ]
  },
  {
   "cell_type": "code",
   "execution_count": 32,
   "metadata": {},
   "outputs": [
    {
     "data": {
      "text/html": [
       "<div>\n",
       "<style scoped>\n",
       "    .dataframe tbody tr th:only-of-type {\n",
       "        vertical-align: middle;\n",
       "    }\n",
       "\n",
       "    .dataframe tbody tr th {\n",
       "        vertical-align: top;\n",
       "    }\n",
       "\n",
       "    .dataframe thead th {\n",
       "        text-align: right;\n",
       "    }\n",
       "</style>\n",
       "<table border=\"1\" class=\"dataframe\">\n",
       "  <thead>\n",
       "    <tr style=\"text-align: right;\">\n",
       "      <th></th>\n",
       "      <th>timestamp</th>\n",
       "      <th>order_id</th>\n",
       "      <th>book_event_type</th>\n",
       "      <th>price</th>\n",
       "      <th>quantity</th>\n",
       "      <th>side</th>\n",
       "      <th>aux_quantity</th>\n",
       "      <th>datetime</th>\n",
       "      <th>best_bid</th>\n",
       "      <th>best_ask</th>\n",
       "      <th>...</th>\n",
       "      <th>ask1</th>\n",
       "      <th>ask2</th>\n",
       "      <th>ask3</th>\n",
       "      <th>ask4</th>\n",
       "      <th>ask5</th>\n",
       "      <th>ask6</th>\n",
       "      <th>ask7</th>\n",
       "      <th>ask8</th>\n",
       "      <th>ask9</th>\n",
       "      <th>ask10</th>\n",
       "    </tr>\n",
       "  </thead>\n",
       "  <tbody>\n",
       "    <tr>\n",
       "      <th>9999</th>\n",
       "      <td>1483713730524008832</td>\n",
       "      <td>22821008</td>\n",
       "      <td>C</td>\n",
       "      <td>122.09</td>\n",
       "      <td>0</td>\n",
       "      <td>B</td>\n",
       "      <td>100</td>\n",
       "      <td>01/06/17 09:42:10.524009</td>\n",
       "      <td>NaN</td>\n",
       "      <td>NaN</td>\n",
       "      <td>...</td>\n",
       "      <td>NaN</td>\n",
       "      <td>NaN</td>\n",
       "      <td>NaN</td>\n",
       "      <td>NaN</td>\n",
       "      <td>NaN</td>\n",
       "      <td>NaN</td>\n",
       "      <td>NaN</td>\n",
       "      <td>NaN</td>\n",
       "      <td>NaN</td>\n",
       "      <td>NaN</td>\n",
       "    </tr>\n",
       "    <tr>\n",
       "      <th>10000</th>\n",
       "      <td>1483713730524250432</td>\n",
       "      <td>22864264</td>\n",
       "      <td>C</td>\n",
       "      <td>122.10</td>\n",
       "      <td>0</td>\n",
       "      <td>B</td>\n",
       "      <td>100</td>\n",
       "      <td>01/06/17 09:42:10.524251</td>\n",
       "      <td>NaN</td>\n",
       "      <td>NaN</td>\n",
       "      <td>...</td>\n",
       "      <td>NaN</td>\n",
       "      <td>NaN</td>\n",
       "      <td>NaN</td>\n",
       "      <td>NaN</td>\n",
       "      <td>NaN</td>\n",
       "      <td>NaN</td>\n",
       "      <td>NaN</td>\n",
       "      <td>NaN</td>\n",
       "      <td>NaN</td>\n",
       "      <td>NaN</td>\n",
       "    </tr>\n",
       "    <tr>\n",
       "      <th>10001</th>\n",
       "      <td>1483713730524674013</td>\n",
       "      <td>22965848</td>\n",
       "      <td>A</td>\n",
       "      <td>122.19</td>\n",
       "      <td>100</td>\n",
       "      <td>A</td>\n",
       "      <td>0</td>\n",
       "      <td>01/06/17 09:42:10.524674</td>\n",
       "      <td>NaN</td>\n",
       "      <td>NaN</td>\n",
       "      <td>...</td>\n",
       "      <td>NaN</td>\n",
       "      <td>NaN</td>\n",
       "      <td>NaN</td>\n",
       "      <td>NaN</td>\n",
       "      <td>NaN</td>\n",
       "      <td>NaN</td>\n",
       "      <td>NaN</td>\n",
       "      <td>NaN</td>\n",
       "      <td>NaN</td>\n",
       "      <td>NaN</td>\n",
       "    </tr>\n",
       "    <tr>\n",
       "      <th>10002</th>\n",
       "      <td>1483713730524830438</td>\n",
       "      <td>7760928</td>\n",
       "      <td>M</td>\n",
       "      <td>116.01</td>\n",
       "      <td>100</td>\n",
       "      <td>B</td>\n",
       "      <td>100</td>\n",
       "      <td>01/06/17 09:42:10.524830</td>\n",
       "      <td>NaN</td>\n",
       "      <td>NaN</td>\n",
       "      <td>...</td>\n",
       "      <td>NaN</td>\n",
       "      <td>NaN</td>\n",
       "      <td>NaN</td>\n",
       "      <td>NaN</td>\n",
       "      <td>NaN</td>\n",
       "      <td>NaN</td>\n",
       "      <td>NaN</td>\n",
       "      <td>NaN</td>\n",
       "      <td>NaN</td>\n",
       "      <td>NaN</td>\n",
       "    </tr>\n",
       "    <tr>\n",
       "      <th>10003</th>\n",
       "      <td>1483713730525265865</td>\n",
       "      <td>22441984</td>\n",
       "      <td>C</td>\n",
       "      <td>122.08</td>\n",
       "      <td>0</td>\n",
       "      <td>B</td>\n",
       "      <td>200</td>\n",
       "      <td>01/06/17 09:42:10.525266</td>\n",
       "      <td>NaN</td>\n",
       "      <td>NaN</td>\n",
       "      <td>...</td>\n",
       "      <td>NaN</td>\n",
       "      <td>NaN</td>\n",
       "      <td>NaN</td>\n",
       "      <td>NaN</td>\n",
       "      <td>NaN</td>\n",
       "      <td>NaN</td>\n",
       "      <td>NaN</td>\n",
       "      <td>NaN</td>\n",
       "      <td>NaN</td>\n",
       "      <td>NaN</td>\n",
       "    </tr>\n",
       "    <tr>\n",
       "      <th>10004</th>\n",
       "      <td>1483713730525930218</td>\n",
       "      <td>22820784</td>\n",
       "      <td>C</td>\n",
       "      <td>122.09</td>\n",
       "      <td>0</td>\n",
       "      <td>B</td>\n",
       "      <td>200</td>\n",
       "      <td>01/06/17 09:42:10.525930</td>\n",
       "      <td>NaN</td>\n",
       "      <td>NaN</td>\n",
       "      <td>...</td>\n",
       "      <td>NaN</td>\n",
       "      <td>NaN</td>\n",
       "      <td>NaN</td>\n",
       "      <td>NaN</td>\n",
       "      <td>NaN</td>\n",
       "      <td>NaN</td>\n",
       "      <td>NaN</td>\n",
       "      <td>NaN</td>\n",
       "      <td>NaN</td>\n",
       "      <td>NaN</td>\n",
       "    </tr>\n",
       "    <tr>\n",
       "      <th>10005</th>\n",
       "      <td>1483713730536275140</td>\n",
       "      <td>22912676</td>\n",
       "      <td>C</td>\n",
       "      <td>122.09</td>\n",
       "      <td>0</td>\n",
       "      <td>B</td>\n",
       "      <td>300</td>\n",
       "      <td>01/06/17 09:42:10.536275</td>\n",
       "      <td>NaN</td>\n",
       "      <td>NaN</td>\n",
       "      <td>...</td>\n",
       "      <td>NaN</td>\n",
       "      <td>NaN</td>\n",
       "      <td>NaN</td>\n",
       "      <td>NaN</td>\n",
       "      <td>NaN</td>\n",
       "      <td>NaN</td>\n",
       "      <td>NaN</td>\n",
       "      <td>NaN</td>\n",
       "      <td>NaN</td>\n",
       "      <td>NaN</td>\n",
       "    </tr>\n",
       "    <tr>\n",
       "      <th>10006</th>\n",
       "      <td>1483713730541295044</td>\n",
       "      <td>22861744</td>\n",
       "      <td>C</td>\n",
       "      <td>122.64</td>\n",
       "      <td>0</td>\n",
       "      <td>A</td>\n",
       "      <td>100</td>\n",
       "      <td>01/06/17 09:42:10.541295</td>\n",
       "      <td>NaN</td>\n",
       "      <td>NaN</td>\n",
       "      <td>...</td>\n",
       "      <td>NaN</td>\n",
       "      <td>NaN</td>\n",
       "      <td>NaN</td>\n",
       "      <td>NaN</td>\n",
       "      <td>NaN</td>\n",
       "      <td>NaN</td>\n",
       "      <td>NaN</td>\n",
       "      <td>NaN</td>\n",
       "      <td>NaN</td>\n",
       "      <td>NaN</td>\n",
       "    </tr>\n",
       "    <tr>\n",
       "      <th>10007</th>\n",
       "      <td>1483713730541362516</td>\n",
       "      <td>22966136</td>\n",
       "      <td>A</td>\n",
       "      <td>122.25</td>\n",
       "      <td>100</td>\n",
       "      <td>A</td>\n",
       "      <td>0</td>\n",
       "      <td>01/06/17 09:42:10.541363</td>\n",
       "      <td>NaN</td>\n",
       "      <td>NaN</td>\n",
       "      <td>...</td>\n",
       "      <td>NaN</td>\n",
       "      <td>NaN</td>\n",
       "      <td>NaN</td>\n",
       "      <td>NaN</td>\n",
       "      <td>NaN</td>\n",
       "      <td>NaN</td>\n",
       "      <td>NaN</td>\n",
       "      <td>NaN</td>\n",
       "      <td>NaN</td>\n",
       "      <td>NaN</td>\n",
       "    </tr>\n",
       "    <tr>\n",
       "      <th>10008</th>\n",
       "      <td>1483713730541404806</td>\n",
       "      <td>22966140</td>\n",
       "      <td>A</td>\n",
       "      <td>122.25</td>\n",
       "      <td>200</td>\n",
       "      <td>A</td>\n",
       "      <td>0</td>\n",
       "      <td>01/06/17 09:42:10.541405</td>\n",
       "      <td>NaN</td>\n",
       "      <td>NaN</td>\n",
       "      <td>...</td>\n",
       "      <td>NaN</td>\n",
       "      <td>NaN</td>\n",
       "      <td>NaN</td>\n",
       "      <td>NaN</td>\n",
       "      <td>NaN</td>\n",
       "      <td>NaN</td>\n",
       "      <td>NaN</td>\n",
       "      <td>NaN</td>\n",
       "      <td>NaN</td>\n",
       "      <td>NaN</td>\n",
       "    </tr>\n",
       "  </tbody>\n",
       "</table>\n",
       "<p>10 rows × 33 columns</p>\n",
       "</div>"
      ],
      "text/plain": [
       "                 timestamp  order_id book_event_type   price  quantity side  \\\n",
       "9999   1483713730524008832  22821008               C  122.09         0    B   \n",
       "10000  1483713730524250432  22864264               C  122.10         0    B   \n",
       "10001  1483713730524674013  22965848               A  122.19       100    A   \n",
       "10002  1483713730524830438   7760928               M  116.01       100    B   \n",
       "10003  1483713730525265865  22441984               C  122.08         0    B   \n",
       "10004  1483713730525930218  22820784               C  122.09         0    B   \n",
       "10005  1483713730536275140  22912676               C  122.09         0    B   \n",
       "10006  1483713730541295044  22861744               C  122.64         0    A   \n",
       "10007  1483713730541362516  22966136               A  122.25       100    A   \n",
       "10008  1483713730541404806  22966140               A  122.25       200    A   \n",
       "\n",
       "       aux_quantity                  datetime  best_bid  best_ask  ...  ask1  \\\n",
       "9999            100  01/06/17 09:42:10.524009       NaN       NaN  ...   NaN   \n",
       "10000           100  01/06/17 09:42:10.524251       NaN       NaN  ...   NaN   \n",
       "10001             0  01/06/17 09:42:10.524674       NaN       NaN  ...   NaN   \n",
       "10002           100  01/06/17 09:42:10.524830       NaN       NaN  ...   NaN   \n",
       "10003           200  01/06/17 09:42:10.525266       NaN       NaN  ...   NaN   \n",
       "10004           200  01/06/17 09:42:10.525930       NaN       NaN  ...   NaN   \n",
       "10005           300  01/06/17 09:42:10.536275       NaN       NaN  ...   NaN   \n",
       "10006           100  01/06/17 09:42:10.541295       NaN       NaN  ...   NaN   \n",
       "10007             0  01/06/17 09:42:10.541363       NaN       NaN  ...   NaN   \n",
       "10008             0  01/06/17 09:42:10.541405       NaN       NaN  ...   NaN   \n",
       "\n",
       "       ask2  ask3  ask4  ask5  ask6  ask7  ask8  ask9  ask10  \n",
       "9999    NaN   NaN   NaN   NaN   NaN   NaN   NaN   NaN    NaN  \n",
       "10000   NaN   NaN   NaN   NaN   NaN   NaN   NaN   NaN    NaN  \n",
       "10001   NaN   NaN   NaN   NaN   NaN   NaN   NaN   NaN    NaN  \n",
       "10002   NaN   NaN   NaN   NaN   NaN   NaN   NaN   NaN    NaN  \n",
       "10003   NaN   NaN   NaN   NaN   NaN   NaN   NaN   NaN    NaN  \n",
       "10004   NaN   NaN   NaN   NaN   NaN   NaN   NaN   NaN    NaN  \n",
       "10005   NaN   NaN   NaN   NaN   NaN   NaN   NaN   NaN    NaN  \n",
       "10006   NaN   NaN   NaN   NaN   NaN   NaN   NaN   NaN    NaN  \n",
       "10007   NaN   NaN   NaN   NaN   NaN   NaN   NaN   NaN    NaN  \n",
       "10008   NaN   NaN   NaN   NaN   NaN   NaN   NaN   NaN    NaN  \n",
       "\n",
       "[10 rows x 33 columns]"
      ]
     },
     "execution_count": 32,
     "metadata": {},
     "output_type": "execute_result"
    }
   ],
   "source": [
    "data.mid_price = (data.best_bid + data.best_ask)/2\n",
    "data[9990:10000]"
   ]
  },
  {
   "cell_type": "markdown",
   "metadata": {},
   "source": [
    "#### Examples of what the bid and ask OrderBooks look like after 10,000 events, for the top 10 prices"
   ]
  },
  {
   "cell_type": "code",
   "execution_count": 16,
   "metadata": {
    "scrolled": false
   },
   "outputs": [
    {
     "name": "stdout",
     "output_type": "stream",
     "text": [
      "122.09: defaultdict(<class 'float'>, {22820780: 200.0})\n",
      "122.08: defaultdict(<class 'float'>, {22885852: 300.0})\n",
      "122.07: defaultdict(<class 'float'>, {22864524: 300.0, 22340900: 200.0})\n",
      "122.06: defaultdict(<class 'float'>, {22692912: 100.0, 22818520: 300.0, 22861408: 200.0})\n",
      "122.05: defaultdict(<class 'float'>, {22786216: 300.0, 22199744: 200.0})\n",
      "122.04: defaultdict(<class 'float'>, {22741100: 300.0, 22773136: 200.0})\n",
      "122.03: defaultdict(<class 'float'>, {22692520: 200.0, 22259240: 200.0})\n",
      "122.02: defaultdict(<class 'float'>, {22288896: 200.0})\n",
      "121.97: defaultdict(<class 'float'>, {12193864: 100.0})\n",
      "121.96: defaultdict(<class 'float'>, {12193904: 100.0})\n"
     ]
    }
   ],
   "source": [
    "for key in sorted(bid_book.orders, reverse=True)[0:10]:\n",
    "    print(\"%s: %s\" % (key, bid_book.orders[key]))"
   ]
  },
  {
   "cell_type": "code",
   "execution_count": 17,
   "metadata": {},
   "outputs": [
    {
     "name": "stdout",
     "output_type": "stream",
     "text": [
      "122.19: defaultdict(<class 'float'>, {22958760: 100.0, 22965808: 200.0, 22965848: 100.0})\n",
      "122.2: defaultdict(<class 'float'>, {22743516: 200.0, 22919956: 100.0, 22942204: 300.0, 22952516: 100.0})\n",
      "122.21: defaultdict(<class 'float'>, {22790916: 200.0, 22869572: 300.0, 22919748: 200.0})\n",
      "122.22: defaultdict(<class 'float'>, {22820500: 200.0, 22919760: 300.0})\n",
      "122.23: defaultdict(<class 'float'>, {22869580: 200.0})\n",
      "122.24: defaultdict(<class 'float'>, {22915884: 200.0})\n",
      "122.25: defaultdict(<class 'float'>, {22966136: 100.0, 22966140: 200.0})\n",
      "122.28: defaultdict(<class 'float'>, {22790320: 200.0})\n",
      "122.3: defaultdict(<class 'float'>, {22884868: 200.0, 22885036: 200.0})\n",
      "122.31: defaultdict(<class 'float'>, {12193908: 100.0})\n"
     ]
    }
   ],
   "source": [
    "for key in sorted(ask_book.orders)[0:10]:\n",
    "    print(\"%s: %s\" % (key, ask_book.orders[key]))"
   ]
  },
  {
   "cell_type": "markdown",
   "metadata": {},
   "source": [
    "#### Plot the ask/bid depths after 10,000 events to get a visual sense of what is happening. \n",
    "\n",
    "Middle is the mid_price. In theory, there may be some downward pressure on the mid price as there is a greater amount of ask order depth near the mid point, whereas bid orders are more spread out and away from the mid price."
   ]
  },
  {
   "cell_type": "code",
   "execution_count": 122,
   "metadata": {},
   "outputs": [
    {
     "data": {
      "image/png": "[encoded data removed]",
      "text/plain": [
       "<Figure size 432x288 with 1 Axes>"
      ]
     },
     "metadata": {
      "needs_background": "light"
     },
     "output_type": "display_data"
    }
   ],
   "source": [
    "import matplotlib.patches as mpatches\n",
    "\n",
    "current_depths = data.loc[10008][bid_columns + ask_columns]\n",
    "depth_range = [x for x in range(-10,11) if x != 0]\n",
    "plt.bar(bid_columns + ask_columns, current_bid_depths.values[0], color = ['g']*10 + ['r']*10)\n",
    "plt.title('Ask/Bid Depths After 10,000 Events')\n",
    "plt.xlabel('Ask/Bid Level')\n",
    "plt.xticks(bid_columns + ask_columns, bid_columns + ask_columns, rotation='vertical')\n",
    "asks = mpatches.Patch(color='r', label='Asks')\n",
    "bids = mpatches.Patch(color='g', label='Bids')\n",
    "plt.legend(handles=[bids,asks])\n",
    "plt.ylabel('Total Depth @ Price (Price * Quantity)')\n",
    "plt.show()"
   ]
  },
  {
   "cell_type": "markdown",
   "metadata": {},
   "source": [
    "### Mid-Price Sanity Check\n",
    "\n",
    "I want to see how the mid-price changed over the course of the day, and compare it to the trade prices over the course of the day, as well. In theory, they should be very close. Adds, modifies, cancels and trades can all affect the mid-price, but trade prices should somewhat reflect those changes, as well - even though there are only 500 trades throughout the day. If the two charts are similar, it gives me confidence that the logic for building the limit order books is working. "
   ]
  },
  {
   "cell_type": "code",
   "execution_count": 136,
   "metadata": {},
   "outputs": [
    {
     "data": {
      "image/png": "[encoded data removed]",
      "text/plain": [
       "<Figure size 432x288 with 1 Axes>"
      ]
     },
     "metadata": {
      "needs_background": "light"
     },
     "output_type": "display_data"
    }
   ],
   "source": [
    "#new_data = pd.read_csv('SOXX_01_06_with_bids_depths.csv')\n",
    "plt.plot(new_data.index[1000:-1000],new_data['mid_price'][1000:-1000])\n",
    "plt.title('SOXX Mid-Prices Over the Course of 1/6/17')\n",
    "plt.xlabel('Event Number')\n",
    "plt.ylabel('SOXX Mid-Price')\n",
    "plt.show()"
   ]
  },
  {
   "cell_type": "markdown",
   "metadata": {},
   "source": [
    "Trades throughout the day"
   ]
  },
  {
   "cell_type": "code",
   "execution_count": 134,
   "metadata": {},
   "outputs": [
    {
     "data": {
      "image/png": "[encoded data removed]",
      "text/plain": [
       "<Figure size 432x288 with 1 Axes>"
      ]
     },
     "metadata": {
      "needs_background": "light"
     },
     "output_type": "display_data"
    }
   ],
   "source": [
    "trades = data[data.book_event_type == \"T\"]\n",
    "print(\"Total Trades\")\n",
    "plt.plot(trades.index, trades.price)\n",
    "plt.title('SOXX Trade Prices Over the Course of 1/6/17')\n",
    "plt.xlabel('Event Number')\n",
    "plt.ylabel('SOXX Trade Price')\n",
    "plt.show()"
   ]
  },
  {
   "cell_type": "code",
   "execution_count": null,
   "metadata": {},
   "outputs": [],
   "source": [
    "# save data to a CSV so it can be processed further\n",
    "# data.to_csv('SOXX_01_06_with_bids_depths.csv')\n",
    "# data.to_csv('SOXX_01_09_with_bids_depths.csv')"
   ]
  }
 ],
 "metadata": {
  "kernelspec": {
   "display_name": "Python 3",
   "language": "python",
   "name": "python3"
  },
  "language_info": {
   "codemirror_mode": {
    "name": "ipython",
    "version": 3
   },
   "file_extension": ".py",
   "mimetype": "text/x-python",
   "name": "python",
   "nbconvert_exporter": "python",
   "pygments_lexer": "ipython3",
   "version": "3.6.8"
  }
 },
 "nbformat": 4,
 "nbformat_minor": 2
}
