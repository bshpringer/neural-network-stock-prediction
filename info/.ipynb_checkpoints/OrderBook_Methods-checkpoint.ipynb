{
 "cells": [
  {
   "cell_type": "markdown",
   "metadata": {},
   "source": [
    "# Logic/Explanation for methods in OrderBook Class"
   ]
  },
  {
   "cell_type": "markdown",
   "metadata": {},
   "source": [
    "## ``__init__``\n",
    "\n",
    "Instantiates an OrderBook object with 3 data structures:\n",
    "\n",
    "**orders** is an empty default dictionary which holds all limit orders. it is structured as \n",
    "    \n",
    "    {price: {order_number: quantity}}\n",
    "    \n",
    "For instance, if the dictionary is initially empty, and the first line of the data is is an add of quantity 20 at price 10.00 with order_id 504, the order would look like this after the first line is processed:\n",
    "   \n",
    "    {10.00: {504: 20}}\n",
    "    \n",
    "\n",
    "**order_prices** is an empty default dictionary which just allows for easy lookup for the price of a given order. This is especially useful for modify events because it makes it easy to look up what the previous price of the order was, as that information is not given in a line item - it only provides a new price. It doesn't include quantity information. Using the same example as before, after one line, the order_prices dictionary would look like:\n",
    "\n",
    "    {504: 10.00}\n",
    "    \n",
    "\n",
    "**current_prices** is a list of all the different ask or bid prices at a given time. It starts with 0 because there have been no orders, however, after the first line, it would look like:\n",
    "\n",
    "    [10.00]\n",
    "    \n",
    "This is useful because mid price is calculated as the midpoint between the lowest ask-price and the highest bid-price - so we sort this list to find either the lowest ask or highest bid, depending on which dictionary it is"
   ]
  },
  {
   "cell_type": "markdown",
   "metadata": {},
   "source": [
    "## ``change_book(row)``\n",
    "\n",
    "This method determines what kind of action should be done based on the 'book_event_type' column of a given row. Possible book_event_types are:\n",
    "* 'A' for Add: add a new order to the OrderBook\n",
    "* 'M' for Modify: change an existing order in the OrderBook\n",
    "* 'C' for Cancel: cancel an existing order in the OrderBook\n",
    "* 'T' for Trade: a trade has been executed on a previously existing order."
   ]
  },
  {
   "cell_type": "markdown",
   "metadata": {},
   "source": [
    "## ``add_order(row)``\n",
    "\n",
    "* Add to the `orders` dictionary at the price -> an order with a certain quantity\n",
    "* Add to the `order_prices` dictionary an order -> price\n",
    "\n"
   ]
  },
  {
   "cell_type": "markdown",
   "metadata": {},
   "source": [
    "## ``modify_order(row)``\n",
    "\n",
    "* Find the previous price of the order in the `order_prices` dictionary.\n",
    "* Delete the previous order from the book, found by using the previous price.\n",
    "* Create a new order at the new price with the new quantity\n",
    "* Change the price of the order in the `order_prices` dictionary.\n",
    "* Check if there are any more orders or shares requested at the previous price, and if not, delete the previous price, as it could effect what is the 'best ask/bid' price if there are no shares requested."
   ]
  },
  {
   "cell_type": "markdown",
   "metadata": {},
   "source": [
    "## ``cancel_order(row)``\n",
    "\n",
    "* Find the order based on the price/order_id, and remove it from `orders`.\n",
    "* Delete the order from `order_prices`.\n",
    "* Check if there are any more orders or shares requested at the cancelled order's price, and if not, delete that price from `orders`."
   ]
  },
  {
   "cell_type": "markdown",
   "metadata": {},
   "source": [
    "## ``trade_order(row)``\n",
    "\n",
    "* Find the previous price of the order in the `order_prices` dictionary (this needs to be done because sometimes a trade happens at a different price than was previously recorded).\n",
    "* Change the quantity in `orders` to the value in the \"aux_quantity\" column. \"aux_quantity\" indicates how many shares are left over in an order after a trade. If \"aux_quantity\" is 0, then the order can be removed. Otherwise, it remains, just with fewer shares requested.\n",
    "* If after a trade there are no more shares requested at a price across all orders, that price is removed."
   ]
  },
  {
   "cell_type": "markdown",
   "metadata": {},
   "source": [
    "## ``update_current_prices(side)``\n",
    "\n",
    "* Sorts the prices in `orders`. \n",
    "* If it is a Bid order book, we want the highest prices first - that is the highest price someone is willing to pay, then the second highest price someone is willing to pay, etc.\n",
    "* If it is an Ask order book, we want the lowest prices first - that is, the lowest prices someone is willing to sell for, etc."
   ]
  }
 ],
 "metadata": {
  "kernelspec": {
   "display_name": "Python 3",
   "language": "python",
   "name": "python3"
  },
  "language_info": {
   "codemirror_mode": {
    "name": "ipython",
    "version": 3
   },
   "file_extension": ".py",
   "mimetype": "text/x-python",
   "name": "python",
   "nbconvert_exporter": "python",
   "pygments_lexer": "ipython3",
   "version": "3.6.8"
  }
 },
 "nbformat": 4,
 "nbformat_minor": 2
}
