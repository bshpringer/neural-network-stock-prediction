{
 "cells": [
  {
   "cell_type": "markdown",
   "metadata": {},
   "source": [
    "## Column Descriptions"
   ]
  },
  {
   "cell_type": "markdown",
   "metadata": {},
   "source": [
    "### Initial Columns (before processing):\n",
    "\n",
    "* **timestamp**: High resolution timestamp for event\n",
    "* **order_id**: Unique id for the order (Added, Modified, etc)\n",
    "* **book_event_type**: Add, Modify, Cancel, Trade\n",
    "* **price**: Price of Add, Modify, Cancel\n",
    "* **quantity**: Quantity of Add, Modify, Cancel\n",
    "* **side**: Side of event (bid vs ask)\n",
    "* **aux_quantity**: Auxiliary quantity info, such as amount left on order after a partial trade"
   ]
  },
  {
   "cell_type": "markdown",
   "metadata": {},
   "source": [
    "### Order Book Feature Engineering"
   ]
  },
  {
   "cell_type": "markdown",
   "metadata": {},
   "source": [
    "* **best_bid**: highest bid price with some quantity of shares requested after the given event\n",
    "* **best_ask**: lowest ask price with some quantity of shares requested after the given event\n",
    "* **mid_price**: midpoint between the best_bid and best_ask\n",
    "* **bid_depth_10**: total depth of bids for the top 10 best bid prices. Depth is defined as price*quantity requested at that price.\n",
    "* **ask_depth_10**: total depth of asks for the top 10 best ask prices. Depth is defined as price*quantity requested at that price.\n",
    "* **bid10**: total depth for the 10th best bid price at the given time. For instance, if the 10th best bid price is $10.00, and there are 200 shares requested at that price, bid10 is 2000.00.\n",
    "* **bid9-1**: same as bid10 with corresponding i'th best price. bid1 is the depth for the best bid price.\n",
    "* **ask1-10**: same as bid10-1, but for ask prices. ask1 corresponds to best_ask * the quantity of shares willing to be sold at that price."
   ]
  },
  {
   "cell_type": "code",
   "execution_count": null,
   "metadata": {},
   "outputs": [],
   "source": []
  }
 ],
 "metadata": {
  "kernelspec": {
   "display_name": "Python 3",
   "language": "python",
   "name": "python3"
  },
  "language_info": {
   "codemirror_mode": {
    "name": "ipython",
    "version": 3
   },
   "file_extension": ".py",
   "mimetype": "text/x-python",
   "name": "python",
   "nbconvert_exporter": "python",
   "pygments_lexer": "ipython3",
   "version": "3.6.8"
  }
 },
 "nbformat": 4,
 "nbformat_minor": 2
}
